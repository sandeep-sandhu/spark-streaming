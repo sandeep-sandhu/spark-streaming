{
 "cells": [
  {
   "cell_type": "markdown",
   "metadata": {
    "editable": true,
    "slideshow": {
     "slide_type": ""
    },
    "tags": []
   },
   "source": [
    "# Spark Stream Analytics Example - Detecting Fraudulent Credit Card Transactions\n",
    "\n",
    "This is a demo of stream analytics implemented in the Apache Structured streaming platform.\n",
    "\n",
    "The following topics have been covered in this notebook:\n",
    "\n",
    "  1. Initialising the environment\n",
    "  1. Starting a Spark session\n",
    "  1. Load data\n",
    "  1. Basic stream calculations\n",
    "  1. Updating stream data\n",
    "  2. Writing streams to database\n"
   ]
  },
  {
   "cell_type": "markdown",
   "metadata": {},
   "source": [
    "---\n",
    "## Initialising the environment\n",
    "\n",
    "### 1.1 Source the libraries for Apache Spark\n",
    "\n",
    "When running in a jupyter notebook, sometimes the required libraries may not exist in the classpath.\n",
    "\n",
    "Load essential spark libraries from maven public repositories at runtime like this:"
   ]
  },
  {
   "cell_type": "code",
   "execution_count": 1,
   "metadata": {
    "id": "a7ca08d823f240129c8c3b8e1deb4fa2",
    "tags": []
   },
   "outputs": [
    {
     "data": {
      "text/plain": [
       "\u001b[32mimport \u001b[39m\u001b[36m$ivy.$                                   \n",
       "\u001b[39m\n",
       "\u001b[32mimport \u001b[39m\u001b[36m$ivy.$                                          \n",
       "\u001b[39m\n",
       "\u001b[32mimport \u001b[39m\u001b[36m$ivy.$                                    \n",
       "\u001b[39m\n",
       "\u001b[32mimport \u001b[39m\u001b[36m$ivy.$                                     \n",
       "\u001b[39m\n",
       "\u001b[32mimport \u001b[39m\u001b[36m$ivy.$                                        \n",
       "\u001b[39m\n",
       "\u001b[32mimport \u001b[39m\u001b[36m$ivy.$                                   \u001b[39m"
      ]
     },
     "execution_count": 1,
     "metadata": {},
     "output_type": "execute_result"
    }
   ],
   "source": [
    "import $ivy.`org.apache.spark::spark-core:3.4.0`\n",
    "import $ivy.`org.apache.spark::spark-mllib-local:3.4.0`\n",
    "import $ivy.`org.apache.spark::spark-mllib:3.4.0`\n",
    "import $ivy.`org.apache.spark::spark-graphx:3.4.0`\n",
    "import $ivy.`org.apache.spark::spark-streaming:3.4.0`\n",
    "import $ivy.`org.apache.spark::spark-tags:3.4.0`"
   ]
  },
  {
   "cell_type": "code",
   "execution_count": 2,
   "metadata": {
    "tags": []
   },
   "outputs": [
    {
     "data": {
      "text/plain": [
       "\u001b[32mimport \u001b[39m\u001b[36m$ivy.$                                                 \n",
       "// https://mvnrepository.com/artifact/org.apache.spark/spark-sql-kafka-0-10\n",
       "\u001b[39m\n",
       "\u001b[32mimport \u001b[39m\u001b[36m$ivy.$                                     \u001b[39m"
      ]
     },
     "execution_count": 2,
     "metadata": {},
     "output_type": "execute_result"
    }
   ],
   "source": [
    "import $ivy.`org.apache.spark:spark-sql-kafka-0-10_2.13:3.4.0`\n",
    "// https://mvnrepository.com/artifact/org.apache.spark/spark-sql-kafka-0-10\n",
    "import $ivy.`org.apache.kafka:kafka-clients:3.4.0`"
   ]
  },
  {
   "cell_type": "code",
   "execution_count": 3,
   "metadata": {
    "tags": []
   },
   "outputs": [
    {
     "data": {
      "text/plain": [
       "\u001b[32mimport \u001b[39m\u001b[36m$ivy.$                                     \u001b[39m"
      ]
     },
     "execution_count": 3,
     "metadata": {},
     "output_type": "execute_result"
    }
   ],
   "source": [
    "import $ivy.`com.redislabs:spark-redis_2.12:3.1.0`"
   ]
  },
  {
   "cell_type": "code",
   "execution_count": 4,
   "metadata": {
    "tags": []
   },
   "outputs": [
    {
     "data": {
      "text/plain": [
       "\u001b[32mimport \u001b[39m\u001b[36m$ivy.$                                      \u001b[39m"
      ]
     },
     "execution_count": 4,
     "metadata": {},
     "output_type": "execute_result"
    }
   ],
   "source": [
    "import $ivy.`io.lettuce:lettuce-core:6.2.4.RELEASE`"
   ]
  },
  {
   "cell_type": "code",
   "execution_count": 5,
   "metadata": {
    "tags": []
   },
   "outputs": [
    {
     "data": {
      "text/plain": [
       "\u001b[32mimport \u001b[39m\u001b[36m$ivy.$                                \n",
       "\u001b[39m\n",
       "\u001b[32mimport \u001b[39m\u001b[36m$ivy.$                          \n",
       "\u001b[39m\n",
       "\u001b[32mimport \u001b[39m\u001b[36m$ivy.$                                 \n",
       "\u001b[39m\n",
       "\u001b[32mimport \u001b[39m\u001b[36m$ivy.$                                                \u001b[39m"
      ]
     },
     "execution_count": 5,
     "metadata": {},
     "output_type": "execute_result"
    }
   ],
   "source": [
    "//import $ivy.`org.scoverage::scalac-scoverage-plugin:1.4.2:Test`\n",
    "//import $ivy.`org.scalatest::scalatest:3.2.15:Test`\n",
    "import $ivy.`org.scalactic::scalactic:3.2.15`\n",
    "import $ivy.`com.typesafe:config:1.4.2`\n",
    "import $ivy.`org.postgresql:postgresql:42.5.1`\n",
    "import $ivy.`com.microsoft.sqlserver:mssql-jdbc:11.2.3.jre11`"
   ]
  },
  {
   "cell_type": "code",
   "execution_count": 6,
   "metadata": {
    "tags": []
   },
   "outputs": [
    {
     "data": {
      "text/plain": [
       "\u001b[32mimport \u001b[39m\u001b[36m$ivy.$                               \n",
       "\u001b[39m\n",
       "\u001b[32mimport \u001b[39m\u001b[36m$ivy.$                           \n",
       "\u001b[39m\n",
       "\u001b[32mimport \u001b[39m\u001b[36m$ivy.$                                      \n",
       "\u001b[39m\n",
       "\u001b[32mimport \u001b[39m\u001b[36m$ivy.$                                                   \u001b[39m"
      ]
     },
     "execution_count": 6,
     "metadata": {},
     "output_type": "execute_result"
    }
   ],
   "source": [
    "import $ivy.`org.scalanlp::breeze-viz:2.1.0`\n",
    "import $ivy.`org.jfree:jfreechart:1.5.4`\n",
    "import $ivy.`org.creativescala::doodle-core:0.18.0`\n",
    "import $ivy.`com.fasterxml.jackson.core:jackson-databind:2.15.1`"
   ]
  },
  {
   "cell_type": "code",
   "execution_count": 6,
   "metadata": {
    "tags": []
   },
   "outputs": [],
   "source": [
    "//import $ivy.`org.slf4j:slf4j-jdk14:2.0.7`"
   ]
  },
  {
   "cell_type": "markdown",
   "metadata": {},
   "source": [
    "---\n",
    "\n",
    "### 1.2 Import the Spark Libraries"
   ]
  },
  {
   "cell_type": "code",
   "execution_count": 7,
   "metadata": {
    "id": "732e8d55868d4b848e8a1aa50e5a9a12",
    "tags": []
   },
   "outputs": [
    {
     "data": {
      "text/plain": [
       "\u001b[32mimport \u001b[39m\u001b[36morg.apache.spark.SparkContext\n",
       "\u001b[39m\n",
       "\u001b[32mimport \u001b[39m\u001b[36morg.apache.spark.SparkConf\n",
       "\u001b[39m\n",
       "\u001b[32mimport \u001b[39m\u001b[36morg.apache.spark.sql.SparkSession\n",
       "\u001b[39m\n",
       "\u001b[32mimport \u001b[39m\u001b[36morg.apache.spark.ml.linalg.{Matrix, Vectors}\n",
       "\u001b[39m\n",
       "\u001b[32mimport \u001b[39m\u001b[36morg.apache.spark.sql.Row\n",
       "\u001b[39m\n",
       "\u001b[32mimport \u001b[39m\u001b[36morg.apache.spark.sql.Dataset\n",
       "\u001b[39m\n",
       "\u001b[32mimport \u001b[39m\u001b[36morg.apache.spark.sql.functions.{col, udf, _}\n",
       "//import org.apache.spark._\n",
       "\u001b[39m\n",
       "\u001b[32mimport \u001b[39m\u001b[36morg.apache.spark.sql._\n",
       "\u001b[39m\n",
       "\u001b[32mimport \u001b[39m\u001b[36morg.apache.spark.graphx._\n",
       "\n",
       "\u001b[39m\n",
       "\u001b[32mimport \u001b[39m\u001b[36morg.apache.spark.rdd.RDD\n",
       "\u001b[39m\n",
       "\u001b[32mimport \u001b[39m\u001b[36morg.apache.spark.storage.StorageLevel\n",
       "\u001b[39m\n",
       "\u001b[32mimport \u001b[39m\u001b[36morg.apache.spark.graphx.util.GraphGenerators\n",
       "\u001b[39m\n",
       "\u001b[32mimport \u001b[39m\u001b[36morg.apache.spark.sql.streaming.Trigger\n",
       "\u001b[39m\n",
       "\u001b[32mimport \u001b[39m\u001b[36morg.apache.spark.sql.types.{LongType, IntegerType, BinaryType, DoubleType, StructType}\n",
       "\u001b[39m\n",
       "\u001b[32mimport \u001b[39m\u001b[36morg.apache.spark.sql.kafka010._\n",
       "\u001b[39m\n",
       "\u001b[32mimport \u001b[39m\u001b[36morg.apache.spark.sql.expressions.scalalang.typed\u001b[39m"
      ]
     },
     "execution_count": 7,
     "metadata": {},
     "output_type": "execute_result"
    }
   ],
   "source": [
    "import org.apache.spark.SparkContext\n",
    "import org.apache.spark.SparkConf\n",
    "import org.apache.spark.sql.SparkSession\n",
    "import org.apache.spark.ml.linalg.{Matrix, Vectors}\n",
    "import org.apache.spark.sql.Row\n",
    "import org.apache.spark.sql.Dataset\n",
    "import org.apache.spark.sql.functions.{col, udf, _}\n",
    "//import org.apache.spark._\n",
    "import org.apache.spark.sql._\n",
    "import org.apache.spark.graphx._\n",
    "\n",
    "import org.apache.spark.rdd.RDD\n",
    "import org.apache.spark.storage.StorageLevel\n",
    "import org.apache.spark.graphx.util.GraphGenerators\n",
    "import org.apache.spark.sql.streaming.Trigger\n",
    "import org.apache.spark.sql.types.{LongType, IntegerType, BinaryType, DoubleType, StructType}\n",
    "import org.apache.spark.sql.kafka010._\n",
    "import org.apache.spark.sql.expressions.scalalang.typed"
   ]
  },
  {
   "cell_type": "code",
   "execution_count": 8,
   "metadata": {
    "tags": []
   },
   "outputs": [
    {
     "data": {
      "text/plain": [
       "\u001b[32mimport \u001b[39m\u001b[36morg.apache.kafka.clients.producer.{KafkaProducer, ProducerRecord}\n",
       "\u001b[39m\n",
       "\u001b[32mimport \u001b[39m\u001b[36morg.apache.kafka.common.serialization.{ByteArrayDeserializer, ByteArraySerializer, StringDeserializer, StringSerializer}\n",
       "\u001b[39m\n",
       "\u001b[32mimport \u001b[39m\u001b[36morg.apache.kafka.clients.consumer.{ConsumerConfig, KafkaConsumer}\u001b[39m"
      ]
     },
     "execution_count": 8,
     "metadata": {},
     "output_type": "execute_result"
    }
   ],
   "source": [
    "import org.apache.kafka.clients.producer.{KafkaProducer, ProducerRecord}\n",
    "import org.apache.kafka.common.serialization.{ByteArrayDeserializer, ByteArraySerializer, StringDeserializer, StringSerializer}\n",
    "import org.apache.kafka.clients.consumer.{ConsumerConfig, KafkaConsumer}"
   ]
  },
  {
   "cell_type": "code",
   "execution_count": 9,
   "metadata": {
    "tags": []
   },
   "outputs": [
    {
     "data": {
      "text/plain": [
       "\u001b[32mimport \u001b[39m\u001b[36mcom.redislabs.provider.redis.streaming._\u001b[39m"
      ]
     },
     "execution_count": 9,
     "metadata": {},
     "output_type": "execute_result"
    }
   ],
   "source": [
    "import com.redislabs.provider.redis.streaming._"
   ]
  },
  {
   "cell_type": "code",
   "execution_count": 10,
   "metadata": {
    "tags": []
   },
   "outputs": [
    {
     "data": {
      "text/plain": [
       "\u001b[32mimport \u001b[39m\u001b[36mjava.nio.ByteBuffer\n",
       "\u001b[39m\n",
       "\u001b[32mimport \u001b[39m\u001b[36mjava.sql.Timestamp\n",
       "\u001b[39m\n",
       "\u001b[32mimport \u001b[39m\u001b[36mscala.io.Source\n",
       "\u001b[39m\n",
       "\u001b[32mimport \u001b[39m\u001b[36mscala.jdk.CollectionConverters._\u001b[39m"
      ]
     },
     "execution_count": 10,
     "metadata": {},
     "output_type": "execute_result"
    }
   ],
   "source": [
    "import java.nio.ByteBuffer\n",
    "import java.sql.Timestamp\n",
    "import scala.io.Source\n",
    "import scala.jdk.CollectionConverters._"
   ]
  },
  {
   "cell_type": "code",
   "execution_count": 11,
   "metadata": {
    "tags": []
   },
   "outputs": [
    {
     "data": {
      "text/plain": [
       "\u001b[32mimport \u001b[39m\u001b[36mcom.fasterxml.jackson.core.`type`.TypeReference\n",
       "\u001b[39m\n",
       "\u001b[32mimport \u001b[39m\u001b[36mcom.fasterxml.jackson.module.scala.DefaultScalaModule\n",
       "\u001b[39m\n",
       "\u001b[32mimport \u001b[39m\u001b[36mbreeze.linalg._\n",
       "\u001b[39m\n",
       "\u001b[32mimport \u001b[39m\u001b[36mbreeze.plot._\n",
       "\u001b[39m\n",
       "\u001b[32mimport \u001b[39m\u001b[36mcom.typesafe.config.{Config, ConfigFactory}\n",
       "\u001b[39m\n",
       "\u001b[32mimport \u001b[39m\u001b[36mscala.annotation.tailrec\u001b[39m"
      ]
     },
     "execution_count": 11,
     "metadata": {},
     "output_type": "execute_result"
    }
   ],
   "source": [
    "import com.fasterxml.jackson.core.`type`.TypeReference\n",
    "import com.fasterxml.jackson.module.scala.DefaultScalaModule\n",
    "import breeze.linalg._\n",
    "import breeze.plot._\n",
    "import com.typesafe.config.{Config, ConfigFactory}\n",
    "import scala.annotation.tailrec"
   ]
  },
  {
   "cell_type": "code",
   "execution_count": 12,
   "metadata": {
    "id": "bbf5510bb79c40b18ded72a586e03f7a",
    "tags": []
   },
   "outputs": [
    {
     "data": {
      "text/plain": [
       "\u001b[36mappName\u001b[39m: \u001b[32mString\u001b[39m = \u001b[32m\"Spark_Streaming_1\"\u001b[39m"
      ]
     },
     "execution_count": 12,
     "metadata": {},
     "output_type": "execute_result"
    }
   ],
   "source": [
    "val appName = \"Spark_Streaming_1\""
   ]
  },
  {
   "cell_type": "markdown",
   "metadata": {},
   "source": [
    "### 1.3 Setup the Logger\n",
    "\n",
    "To control the volume of log messages, change the log4j configuraiton programatically like this:"
   ]
  },
  {
   "cell_type": "code",
   "execution_count": 13,
   "metadata": {
    "id": "9546af49dfa44cebaca97724c6add0b1",
    "tags": []
   },
   "outputs": [
    {
     "data": {
      "text/plain": [
       "\u001b[32mimport \u001b[39m\u001b[36morg.apache.log4j.{Level, Logger}\n",
       "//Logger.getLogger(\"org\").setLevel(Level.INFO)\n",
       "\n",
       "\u001b[39m\n",
       "\u001b[36mlogger\u001b[39m: \u001b[32mLogger\u001b[39m = org.apache.log4j.Logger@5da67448"
      ]
     },
     "execution_count": 13,
     "metadata": {},
     "output_type": "execute_result"
    }
   ],
   "source": [
    "import org.apache.log4j.{Level, Logger}\n",
    "//Logger.getLogger(\"org\").setLevel(Level.INFO)\n",
    "\n",
    "val logger: Logger = Logger.getLogger(appName)\n",
    "Logger.getLogger(\"org.apache.spark\").setLevel(Level.WARN)\n",
    "Logger.getLogger(\"org.apache.spark.storage.BlockManager\").setLevel(Level.ERROR)\n",
    "logger.setLevel(Level.INFO)"
   ]
  },
  {
   "cell_type": "markdown",
   "metadata": {},
   "source": [
    "---\n",
    "## 2. Starting a Spark session\n",
    "\n",
    "### 2.1 Initialise Spark Session"
   ]
  },
  {
   "cell_type": "code",
   "execution_count": 13,
   "metadata": {
    "tags": []
   },
   "outputs": [],
   "source": [
    "// close the spark session and spark context before starting a new one, if re-executing the notebook.\n",
    "\n",
    "//spark.stop()\n",
    "//sc.stop()"
   ]
  },
  {
   "cell_type": "code",
   "execution_count": 14,
   "metadata": {
    "tags": []
   },
   "outputs": [
    {
     "name": "stderr",
     "output_type": "stream",
     "text": [
      "Using Spark's default log4j profile: org/apache/spark/log4j2-defaults.properties\n",
      "23/06/26 00:24:43 WARN Utils: Your hostname, icy resolves to a loopback address: 127.0.1.1; using 10.0.2.15 instead (on interface enp0s3)\n",
      "23/06/26 00:24:43 WARN Utils: Set SPARK_LOCAL_IP if you need to bind to another address\n"
     ]
    },
    {
     "data": {
      "text/plain": [
       "\u001b[36msparkConf\u001b[39m: \u001b[32mSparkConf\u001b[39m = org.apache.spark.SparkConf@4c4cc1ef"
      ]
     },
     "execution_count": 14,
     "metadata": {},
     "output_type": "execute_result"
    }
   ],
   "source": [
    "val sparkConf = new SparkConf()\n",
    "             .setAppName(appName)\n",
    "             .setMaster(\"local[6]\")\n",
    "             //.setMaster(\"spark://sparkmaster320:7077\")\n",
    "             .set(\"spark.driver.extraClassPath\", \"/mnt/shared/lib/spark-sql-kafka-0-10_2.13-3.4.0.jar\")\n",
    "             .set(\"spark.executor.extraClassPath\", \"/mnt/shared/lib/spark-sql-kafka-0-10_2.13-3.4.0.jar\")\n",
    "            .set(\"spark.redis.host\", \"localhost\")\n",
    "            .set(\"spark.redis.port\", \"6379\")\n",
    "             .set(\"spark.default.parallelism\", \"6\")"
   ]
  },
  {
   "cell_type": "code",
   "execution_count": 15,
   "metadata": {
    "id": "1e211dd28ca04c588d837d12902c7af8",
    "tags": []
   },
   "outputs": [
    {
     "name": "stderr",
     "output_type": "stream",
     "text": [
      "23/06/26 00:24:44 INFO SparkContext: Running Spark version 3.4.0\n",
      "23/06/26 00:24:44 WARN NativeCodeLoader: Unable to load native-hadoop library for your platform... using builtin-java classes where applicable\n",
      "23/06/26 00:24:44 INFO ResourceUtils: ==============================================================\n",
      "23/06/26 00:24:44 INFO ResourceUtils: No custom resources configured for spark.driver.\n",
      "23/06/26 00:24:44 INFO ResourceUtils: ==============================================================\n",
      "23/06/26 00:24:44 INFO SparkContext: Submitted application: Spark_Streaming_1\n",
      "23/06/26 00:24:44 INFO ResourceProfile: Default ResourceProfile created, executor resources: Map(cores -> name: cores, amount: 1, script: , vendor: , memory -> name: memory, amount: 1024, script: , vendor: , offHeap -> name: offHeap, amount: 0, script: , vendor: ), task resources: Map(cpus -> name: cpus, amount: 1.0)\n",
      "23/06/26 00:24:44 INFO ResourceProfile: Limiting resource is cpu\n",
      "23/06/26 00:24:44 INFO ResourceProfileManager: Added ResourceProfile id: 0\n",
      "23/06/26 00:24:44 INFO SecurityManager: Changing view acls to: notebooker\n",
      "23/06/26 00:24:44 INFO SecurityManager: Changing modify acls to: notebooker\n",
      "23/06/26 00:24:44 INFO SecurityManager: Changing view acls groups to: \n",
      "23/06/26 00:24:44 INFO SecurityManager: Changing modify acls groups to: \n",
      "23/06/26 00:24:44 INFO SecurityManager: SecurityManager: authentication disabled; ui acls disabled; users with view permissions: notebooker; groups with view permissions: EMPTY; users with modify permissions: notebooker; groups with modify permissions: EMPTY\n",
      "23/06/26 00:24:44 INFO Utils: Successfully started service 'sparkDriver' on port 36173.\n",
      "23/06/26 00:24:44 INFO SparkEnv: Registering MapOutputTracker\n",
      "23/06/26 00:24:44 INFO SparkEnv: Registering BlockManagerMaster\n",
      "23/06/26 00:24:44 INFO BlockManagerMasterEndpoint: Using org.apache.spark.storage.DefaultTopologyMapper for getting topology information\n",
      "23/06/26 00:24:44 INFO BlockManagerMasterEndpoint: BlockManagerMasterEndpoint up\n",
      "23/06/26 00:24:44 INFO SparkEnv: Registering BlockManagerMasterHeartbeat\n",
      "23/06/26 00:24:44 INFO DiskBlockManager: Created local directory at /tmp/blockmgr-287a6c13-bfc4-41d9-94c9-cf4d20b2b5b9\n",
      "23/06/26 00:24:45 INFO MemoryStore: MemoryStore started with capacity 729.6 MiB\n",
      "23/06/26 00:24:45 INFO SparkEnv: Registering OutputCommitCoordinator\n",
      "23/06/26 00:24:45 INFO JettyUtils: Start Jetty 0.0.0.0:4040 for SparkUI\n",
      "23/06/26 00:24:45 INFO Utils: Successfully started service 'SparkUI' on port 4040.\n",
      "23/06/26 00:24:45 INFO Executor: Starting executor ID driver on host 10.0.2.15\n",
      "23/06/26 00:24:45 INFO Executor: Starting executor with user classpath (userClassPathFirst = false): 'file:/mnt/shared/lib/spark-sql-kafka-0-10_2.13-3.4.0.jar,file:/mnt/src/spark_projs/stream_analytics/examples/spark-sql-kafka-0-10_2.13-3.4.0.jar'\n",
      "23/06/26 00:24:45 INFO Utils: Successfully started service 'org.apache.spark.network.netty.NettyBlockTransferService' on port 36725.\n",
      "23/06/26 00:24:45 INFO NettyBlockTransferService: Server created on 10.0.2.15:36725\n",
      "23/06/26 00:24:45 INFO BlockManager: Using org.apache.spark.storage.RandomBlockReplicationPolicy for block replication policy\n",
      "23/06/26 00:24:45 INFO BlockManagerMaster: Registering BlockManager BlockManagerId(driver, 10.0.2.15, 36725, None)\n",
      "23/06/26 00:24:45 INFO BlockManagerMasterEndpoint: Registering block manager 10.0.2.15:36725 with 729.6 MiB RAM, BlockManagerId(driver, 10.0.2.15, 36725, None)\n",
      "23/06/26 00:24:45 INFO BlockManagerMaster: Registered BlockManager BlockManagerId(driver, 10.0.2.15, 36725, None)\n",
      "23/06/26 00:24:45 INFO BlockManager: Initialized BlockManager: BlockManagerId(driver, 10.0.2.15, 36725, None)\n"
     ]
    },
    {
     "data": {
      "text/plain": [
       "\u001b[36mspark\u001b[39m: \u001b[32mSparkSession\u001b[39m = org.apache.spark.sql.SparkSession@478ff477\n",
       "\u001b[32mimport \u001b[39m\u001b[36mspark.implicits._\u001b[39m"
      ]
     },
     "execution_count": 15,
     "metadata": {},
     "output_type": "execute_result"
    }
   ],
   "source": [
    "// Apply the config to start a spark session:\n",
    "val spark = org.apache.spark.sql.SparkSession.builder()\n",
    "    .config(sparkConf)\n",
    "    .getOrCreate()\n",
    "\n",
    "// For implicit conversions like converting RDDs to DataFrames\n",
    "import spark.implicits._"
   ]
  },
  {
   "cell_type": "markdown",
   "metadata": {},
   "source": [
    "### Set logging preferences"
   ]
  },
  {
   "cell_type": "code",
   "execution_count": 16,
   "metadata": {
    "tags": []
   },
   "outputs": [],
   "source": [
    "Logger.getLogger(\"org.apache.spark.storage.BlockManager\").setLevel(Level.ERROR)\n",
    "Logger.getLogger(\"org.apache.spark.storage.BlockManagerMaster\").setLevel(Level.ERROR)\n",
    "Logger.getLogger(\"org.apache.spark.storage.BlockManagerMasterEndpoint\").setLevel(Level.ERROR)\n",
    "Logger.getLogger(\"org.apache.spark.storage.BlockManagerInfo\").setLevel(Level.ERROR)\n",
    "Logger.getLogger(\"org.apache.spark.storage.DiskBlockManager\").setLevel(Level.ERROR)\n",
    "Logger.getLogger(\"org.apache.spark.storage.memory.MemoryStore\").setLevel(Level.ERROR)\n",
    "Logger.getLogger(\"org.apache.spark.storage.ShuffleBlockFetcherIterator\").setLevel(Level.ERROR)\n",
    "\n",
    "Logger.getLogger(\"org.apache.spark.scheduler.OutputCommitCoordinator$OutputCommitCoordinatorEndpoint\").setLevel(Level.ERROR)\n",
    "Logger.getLogger(\"org.apache.spark.scheduler.DAGScheduler\").setLevel(Level.ERROR)\n",
    "Logger.getLogger(\"org.apache.spark.scheduler.TaskSchedulerImpl\").setLevel(Level.ERROR)\n",
    "Logger.getLogger(\"org.apache.spark.scheduler.TaskSetManager\").setLevel(Level.ERROR)\n",
    "Logger.getLogger(\"org.apache.spark.executor.Executor\").setLevel(Level.ERROR)\n",
    "\n",
    "Logger.getLogger(\"org.apache.spark.SparkContext\").setLevel(Level.ERROR)\n",
    "Logger.getLogger(\"org.apache.spark.ui.JettyUtils\").setLevel(Level.ERROR)\n",
    "Logger.getLogger(\"org.apache.spark.network.netty.NettyBlockTransferService\").setLevel(Level.ERROR)\n",
    "Logger.getLogger(\"org.apache.spark.SparkEnv\").setLevel(Level.ERROR)\n",
    "Logger.getLogger(\"org.apache.spark.util.Utils\").setLevel(Level.ERROR)\n",
    "Logger.getLogger(\"org.apache.spark.rdd.HadoopRDD\").setLevel(Level.ERROR)\n",
    "Logger.getLogger(\"org.apache.spark.MapOutputTrackerMasterEndpoint\").setLevel(Level.ERROR)\n",
    "Logger.getLogger(\"org.apache.spark.mapred.SparkHadoopMapRedUtil\").setLevel(Level.ERROR)\n",
    "Logger.getLogger(\"org.apache.spark.internal.io.HadoopMapRedCommitProtocol\").setLevel(Level.ERROR)\n",
    "Logger.getLogger(\"org.apache.spark.internal.io.SparkHadoopWriter\").setLevel(Level.ERROR)\n",
    "Logger.getLogger(\"org.apache.spark.rdd.MapPartitionsRDD\").setLevel(Level.ERROR)\n",
    "Logger.getLogger(\"org.apache.hadoop.mapred.FileOutputCommitter\").setLevel(Level.ERROR)\n",
    "\n",
    "Logger.getLogger(\"org.apache.spark.sql.internal.SharedState\").setLevel(Level.ERROR)\n",
    "Logger.getLogger(\"org.apache.spark.sql.types.Metadata\").setLevel(Level.ERROR)\n",
    "Logger.getLogger(\"org.apache.spark.sql.execution.datasources.v2.WriteToDataSourceV2Exec\").setLevel(Level.ERROR)\n",
    "Logger.getLogger(\"org.apache.spark.sql.execution.datasources.v2.DataWritingSparkTask\").setLevel(Level.ERROR)\n",
    "Logger.getLogger(\"org.apache.spark.sql.execution.aggregate.HashAggregateExec\").setLevel(Level.ERROR)\n",
    "Logger.getLogger(\"org.apache.spark.sql.kafka010.KafkaOffsetReaderAdmin\").setLevel(Level.ERROR)\n",
    "Logger.getLogger(\"org.apache.spark.sql.kafka010.KafkaMicroBatchStream\").setLevel(Level.ERROR)\n",
    "Logger.getLogger(\"org.apache.spark.sql.execution.streaming.state.StateStoreCoordinatorRef\").setLevel(Level.ERROR)\n",
    "Logger.getLogger(\"org.apache.spark.sql.execution.streaming.state.StateStore\").setLevel(Level.ERROR)\n",
    "Logger.getLogger(\"org.apache.spark.sql.execution.streaming.state.HDFSBackedStateStoreProvider\").setLevel(Level.ERROR)\n",
    "Logger.getLogger(\"org.apache.spark.sql.execution.streaming.ResolveWriteToStream\").setLevel(Level.ERROR)\n",
    "Logger.getLogger(\"org.apache.spark.sql.execution.streaming.CheckpointFileManager\").setLevel(Level.ERROR)\n",
    "Logger.getLogger(\"org.apache.spark.sql.execution.streaming.MicroBatchExecution\").setLevel(Level.ERROR)\n",
    "Logger.getLogger(\"org.apache.spark.sql.execution.streaming.OffsetSeqLog\").setLevel(Level.ERROR)\n",
    "\n",
    "Logger.getLogger(\"org.apache.kafka.clients.consumer.ConsumerConfig\").setLevel(Level.ERROR)\n",
    "Logger.getLogger(\"org.apache.kafka.clients.consumer.ConsumerRecord\").setLevel(Level.ERROR)\n",
    "Logger.getLogger(\"org.apache.kafka.clients.consumer.KafkaConsumer\").setLevel(Level.ERROR)\n",
    "Logger.getLogger(\"org.apache.kafka.clients.consumer.internals.SubscriptionState\").setLevel(Level.ERROR)\n",
    "Logger.getLogger(\"org.apache.kafka.clients.consumer.internals.ConsumerCoordinator\").setLevel(Level.ERROR)\n",
    "Logger.getLogger(\"org.apache.kafka.clients.Metadata\").setLevel(Level.ERROR)\n",
    "Logger.getLogger(\"org.apache.kafka.clients.NetworkClient\").setLevel(Level.ERROR)\n",
    "Logger.getLogger(\"org.apache.kafka.common.utils.AppInfoParser\").setLevel(Level.ERROR)\n",
    "Logger.getLogger(\"org.apache.kafka.common.metrics.Metrics\").setLevel(Level.ERROR)\n",
    "Logger.getLogger(\"org.apache.kafka.clients.admin.AdminClientConfig\").setLevel(Level.ERROR)\n",
    "// reset log level for specific objects:"
   ]
  },
  {
   "cell_type": "code",
   "execution_count": 17,
   "metadata": {
    "id": "42ddce31bb4249bc89cc454a78399602",
    "tags": []
   },
   "outputs": [
    {
     "data": {
      "text/plain": [
       "\u001b[36msc\u001b[39m: \u001b[32mSparkContext\u001b[39m = org.apache.spark.SparkContext@2c2ab944"
      ]
     },
     "execution_count": 17,
     "metadata": {},
     "output_type": "execute_result"
    }
   ],
   "source": [
    "val sc = spark.sparkContext"
   ]
  },
  {
   "cell_type": "markdown",
   "metadata": {},
   "source": [
    "## Connect to Text Stream\n",
    "\n",
    "Run netcat on console and enter text lines, this will feed data to the stream:\n",
    "\n",
    "> nc -lk 9999"
   ]
  },
  {
   "cell_type": "markdown",
   "metadata": {},
   "source": [
    "// Create DataFrame representing the stream of input lines from connection to localhost:9999\n",
    "val lines = spark.readStream\n",
    "  .format(\"socket\")\n",
    "  .option(\"host\", \"localhost\")\n",
    "  .option(\"port\", 9999)\n",
    "  .load()\n",
    "\n",
    "// Split the lines into words\n",
    "val words = lines.as[String].flatMap(_.split(\" \"))\n",
    "\n",
    "// Generate running word count\n",
    "val wordCounts = words.groupBy(\"value\").count()"
   ]
  },
  {
   "cell_type": "markdown",
   "metadata": {
    "tags": []
   },
   "source": [
    "// Start running the query that prints the running counts to the console\n",
    "val query = wordCounts.writeStream\n",
    "  .outputMode(\"complete\")\n",
    "  .format(\"console\")\n",
    "  .start()\n",
    "\n",
    "//query.awaitTermination()"
   ]
  },
  {
   "cell_type": "markdown",
   "metadata": {},
   "source": [
    "---\n",
    "\n",
    "## Connect to Kafka stream\n",
    "\n",
    "Data can be loaded into stream from Kafka.\n",
    "The following commands can be used while testing to publish simple text messages via the console.\n",
    "\n",
    "First create a topic in Kafka server:\n",
    "> /opt/kafka/bin/kafka-topics.sh --bootstrap-server localhost:9092 --topic topic1 --create\n",
    "\n",
    "Send some messages to the topic:\n",
    "> /opt/kafka/bin/kafka-console-producer.sh --bootstrap-server localhost:9092 --topic topic1\n",
    "\n",
    "Enter some text to send as messages to this topic."
   ]
  },
  {
   "cell_type": "code",
   "execution_count": 18,
   "metadata": {
    "tags": []
   },
   "outputs": [
    {
     "data": {
      "text/plain": [
       "\u001b[36mdf_src\u001b[39m: \u001b[32mDataFrame\u001b[39m = [key: binary, value: binary ... 5 more fields]"
      ]
     },
     "execution_count": 18,
     "metadata": {},
     "output_type": "execute_result"
    }
   ],
   "source": [
    "// Subscribe to 1 topic\n",
    "val df_src = spark\n",
    "    .readStream\n",
    "    .format(\"kafka\")\n",
    "    .option(\"kafka.bootstrap.servers\", \"localhost:9092\")\n",
    "    .option(\"subscribe\", \"credit_card_txns\")\n",
    "    //.option(\"includeHeaders\", \"true\")  // Whether to include the Kafka headers in the row.\n",
    "    .option(\"minPartitions\", 6)\n",
    "    .option(\"startingOffsets\", \"earliest\") // Read from earliest starting offset\n",
    "    //.option(\"startingOffsets\", \"latest\") // Read from latest starting offset\n",
    "    .load()"
   ]
  },
  {
   "cell_type": "code",
   "execution_count": 18,
   "metadata": {
    "tags": []
   },
   "outputs": [],
   "source": [
    "// df_src.printSchema()\n",
    "\n",
    "// root\n",
    "//  |-- key: binary (nullable = true)\n",
    "//  |-- value: binary (nullable = true)\n",
    "//  |-- topic: string (nullable = true)\n",
    "//  |-- partition: integer (nullable = true)\n",
    "//  |-- offset: long (nullable = true)\n",
    "//  |-- timestamp: timestamp (nullable = true)\n",
    "//  |-- timestampType: integer (nullable = true)"
   ]
  },
  {
   "cell_type": "code",
   "execution_count": 19,
   "metadata": {
    "tags": []
   },
   "outputs": [
    {
     "name": "stdout",
     "output_type": "stream",
     "text": [
      "root\n",
      " |-- partition: integer (nullable = true)\n",
      " |-- offset: long (nullable = true)\n",
      " |-- timestamp: timestamp (nullable = true)\n",
      " |-- key: binary (nullable = true)\n",
      " |-- value: binary (nullable = true)\n",
      "\n"
     ]
    },
    {
     "data": {
      "text/plain": [
       "defined \u001b[32mclass\u001b[39m \u001b[36msparkMsgKV\u001b[39m\n",
       "\u001b[36mdf_binary_kv\u001b[39m: \u001b[32mDataset\u001b[39m[\u001b[32msparkMsgKV\u001b[39m] = [partition: int, offset: bigint ... 3 more fields]"
      ]
     },
     "execution_count": 19,
     "metadata": {},
     "output_type": "execute_result"
    }
   ],
   "source": [
    "case class sparkMsgKV(partition: Integer, offset: Long, timestamp: Timestamp, key: Array[Byte], value: Array[Byte])\n",
    "\n",
    "val df_binary_kv = df_src.selectExpr(\"partition\", \"offset\", \"timestamp\", \"key\", \"value\").as[sparkMsgKV]\n",
    "\n",
    "df_binary_kv.printSchema()"
   ]
  },
  {
   "cell_type": "markdown",
   "metadata": {},
   "source": [
    "## Extract individual fields from the binary message"
   ]
  },
  {
   "cell_type": "code",
   "execution_count": 20,
   "metadata": {
    "tags": []
   },
   "outputs": [
    {
     "data": {
      "text/plain": [
       "defined \u001b[32mfunction\u001b[39m \u001b[36mkvExpand\u001b[39m"
      ]
     },
     "execution_count": 20,
     "metadata": {},
     "output_type": "execute_result"
    }
   ],
   "source": [
    "def kvExpand(row: sparkMsgKV) = {\n",
    "    \n",
    "    //apply transformation on these columns and derive multiple columns\n",
    "    val buffer1 = ByteBuffer.wrap(row.key)\n",
    "    val txnID = buffer1.getLong\n",
    "    \n",
    "    val buffer2 = ByteBuffer.wrap(row.value)\n",
    "    val EventTime = new java.sql.Timestamp(buffer2.getLong)\n",
    "    val V4 = buffer2.getDouble\n",
    "    val V9 = buffer2.getDouble\n",
    "    val V11 = buffer2.getDouble\n",
    "    val V14 = buffer2.getDouble\n",
    "    val V16 = buffer2.getDouble\n",
    "    val Amount = buffer2.getDouble\n",
    "    val IsFraud = buffer2.getInt\n",
    "    val LocationID = buffer2.getLong\n",
    "    val AccNo = buffer2.getLong\n",
    "    val IsRedemption = buffer2.getInt\n",
    "    \n",
    "    (txnID, EventTime, V4, V9, V11, V14, V16, Amount, IsFraud, LocationID, AccNo, IsRedemption, row.partition, row.timestamp)\n",
    "}"
   ]
  },
  {
   "cell_type": "code",
   "execution_count": 21,
   "metadata": {
    "tags": []
   },
   "outputs": [
    {
     "data": {
      "text/plain": [
       "\u001b[36mexpandedColNames\u001b[39m: \u001b[32mSeq\u001b[39m[\u001b[32mString\u001b[39m] = \u001b[33mList\u001b[39m(\n",
       "  \u001b[32m\"TxnID\"\u001b[39m,\n",
       "  \u001b[32m\"EventTime\"\u001b[39m,\n",
       "  \u001b[32m\"V4\"\u001b[39m,\n",
       "  \u001b[32m\"V9\"\u001b[39m,\n",
       "  \u001b[32m\"V11\"\u001b[39m,\n",
       "  \u001b[32m\"V14\"\u001b[39m,\n",
       "  \u001b[32m\"V16\"\u001b[39m,\n",
       "  \u001b[32m\"Amount\"\u001b[39m,\n",
       "  \u001b[32m\"IsFraud\"\u001b[39m,\n",
       "  \u001b[32m\"LocationID\"\u001b[39m,\n",
       "  \u001b[32m\"AccNo\"\u001b[39m,\n",
       "  \u001b[32m\"IsRedemption\"\u001b[39m,\n",
       "  \u001b[32m\"partition\"\u001b[39m,\n",
       "  \u001b[32m\"msgTime\"\u001b[39m\n",
       ")\n",
       "\u001b[36mdf_expanded\u001b[39m: \u001b[32mDataFrame\u001b[39m = [TxnID: bigint, EventTime: timestamp ... 12 more fields]"
      ]
     },
     "execution_count": 21,
     "metadata": {},
     "output_type": "execute_result"
    }
   ],
   "source": [
    "val expandedColNames = Seq(\n",
    "    \"TxnID\", \"EventTime\", \"V4\", \"V9\", \"V11\", \"V14\", \"V16\", \"Amount\", \"IsFraud\", \"LocationID\", \"AccNo\", \"IsRedemption\", \"partition\", \"msgTime\"\n",
    ")\n",
    "\n",
    "val df_expanded = df_binary_kv.map( row => kvExpand(row) ).toDF(expandedColNames: _*)"
   ]
  },
  {
   "cell_type": "markdown",
   "metadata": {},
   "source": [
    "## Write to Redis Server"
   ]
  },
  {
   "cell_type": "code",
   "execution_count": 26,
   "metadata": {
    "tags": []
   },
   "outputs": [],
   "source": [
    "val redisURI:io.lettuce.core.RedisURI = io.lettuce.core.RedisURI.Builder.redis(\"localhost\", 6379)\n",
    "    //.auth(\"password\")\n",
    "    //.database(1)\n",
    "    .build();\n",
    "\n",
    "val redisClient: io.lettuce.core.RedisClient = io.lettuce.core.RedisClient.create(redisURI);\n",
    "\n",
    "val connection: io.lettuce.core.api.StatefulRedisConnection[String, String] = redisClient.connect();\n",
    "val asyncCommands: io.lettuce.core.api.async.RedisAsyncCommands[String, String] = connection.async();"
   ]
  },
  {
   "cell_type": "code",
   "execution_count": 42,
   "metadata": {
    "tags": []
   },
   "outputs": [
    {
     "data": {
      "text/plain": [
       "\u001b[36msyncCommands\u001b[39m: \u001b[32mio\u001b[39m.\u001b[32mlettuce\u001b[39m.\u001b[32mcore\u001b[39m.\u001b[32mapi\u001b[39m.\u001b[32msync\u001b[39m.\u001b[32mRedisCommands\u001b[39m[\u001b[32mString\u001b[39m, \u001b[32mString\u001b[39m] = io.lettuce.core.FutureSyncInvocationHandler@7fbe709e"
      ]
     },
     "execution_count": 42,
     "metadata": {},
     "output_type": "execute_result"
    }
   ],
   "source": [
    "val syncCommands: io.lettuce.core.api.sync.RedisCommands[String, String] = connection.sync();"
   ]
  },
  {
   "cell_type": "code",
   "execution_count": 36,
   "metadata": {
    "tags": []
   },
   "outputs": [
    {
     "data": {
      "text/plain": [
       "\u001b[36mresult\u001b[39m: \u001b[32mio\u001b[39m.\u001b[32mlettuce\u001b[39m.\u001b[32mcore\u001b[39m.\u001b[32mRedisFuture\u001b[39m[\u001b[32mString\u001b[39m] = AsyncCommand [type=GET, output=ValueOutput [output=null, error='null'], commandType=io.lettuce.core.protocol.Command]"
      ]
     },
     "execution_count": 36,
     "metadata": {},
     "output_type": "execute_result"
    }
   ],
   "source": [
    "val result: io.lettuce.core.RedisFuture[String] = asyncCommands.get(\"mycounter\");"
   ]
  },
  {
   "cell_type": "code",
   "execution_count": 37,
   "metadata": {
    "tags": []
   },
   "outputs": [
    {
     "name": "stdout",
     "output_type": "stream",
     "text": [
      "10\n"
     ]
    }
   ],
   "source": [
    "if (result != null && result.isDone() && !result.isCancelled()) {\n",
    "    println(result.get())\n",
    "}"
   ]
  },
  {
   "cell_type": "code",
   "execution_count": 54,
   "metadata": {
    "tags": []
   },
   "outputs": [
    {
     "name": "stdout",
     "output_type": "stream",
     "text": [
      "+-----+---+\n",
      "| name|age|\n",
      "+-----+---+\n",
      "| John| 30|\n",
      "|Peter| 45|\n",
      "+-----+---+\n",
      "\n"
     ]
    },
    {
     "data": {
      "text/plain": [
       "defined \u001b[32mclass\u001b[39m \u001b[36mPerson\u001b[39m\n",
       "\u001b[36mpersonSeq\u001b[39m: \u001b[32mSeq\u001b[39m[\u001b[32mPerson\u001b[39m] = \u001b[33mList\u001b[39m(\n",
       "  \u001b[33mPerson\u001b[39m(name = \u001b[32m\"John\"\u001b[39m, age = \u001b[32m30\u001b[39m),\n",
       "  \u001b[33mPerson\u001b[39m(name = \u001b[32m\"Peter\"\u001b[39m, age = \u001b[32m45\u001b[39m)\n",
       ")\n",
       "\u001b[36mdf\u001b[39m: \u001b[32mDataset\u001b[39m[\u001b[32mPerson\u001b[39m] = [name: string, age: int]"
      ]
     },
     "execution_count": 54,
     "metadata": {},
     "output_type": "execute_result"
    }
   ],
   "source": [
    "case class Person(name: String, age: Int)\n",
    "val personSeq = Seq(Person(\"John\", 30), Person(\"Peter\", 45))\n",
    "val df = spark.createDataFrame(personSeq).as[Person]\n",
    "df.show()"
   ]
  },
  {
   "cell_type": "code",
   "execution_count": 53,
   "metadata": {
    "tags": []
   },
   "outputs": [
    {
     "name": "stderr",
     "output_type": "stream",
     "text": [
      "23/06/26 01:01:37 INFO CodeGenerator: Code generated in 9.923091 ms\n"
     ]
    }
   ],
   "source": [
    "df.collect().foreach(x => asyncCommands.set(x.name, x.age.toString))"
   ]
  },
  {
   "cell_type": "code",
   "execution_count": 55,
   "metadata": {
    "tags": []
   },
   "outputs": [
    {
     "data": {
      "text/plain": [
       "\u001b[36mres54\u001b[39m: \u001b[32mString\u001b[39m = \u001b[32m\"45\"\u001b[39m"
      ]
     },
     "execution_count": 55,
     "metadata": {},
     "output_type": "execute_result"
    }
   ],
   "source": [
    "syncCommands.get(\"Peter\")"
   ]
  },
  {
   "cell_type": "code",
   "execution_count": 55,
   "metadata": {
    "tags": []
   },
   "outputs": [],
   "source": [
    "//df.map(x => {asyncCommands.set(x.name, x.age.toString)} )"
   ]
  },
  {
   "cell_type": "markdown",
   "metadata": {},
   "source": [
    "## Query to view Transactions"
   ]
  },
  {
   "cell_type": "code",
   "execution_count": null,
   "metadata": {
    "collapsed": true,
    "jupyter": {
     "outputs_hidden": true
    },
    "tags": []
   },
   "outputs": [
    {
     "name": "stderr",
     "output_type": "stream",
     "text": [
      "23/06/24 22:03:25 INFO CodeGenerator: Code generated in 384.424493 ms\n",
      "23/06/24 22:03:27 INFO CodeGenerator: Code generated in 55.177078 ms\n",
      "23/06/24 22:03:27 INFO CodeGenerator: Code generated in 48.721723 ms\n"
     ]
    },
    {
     "name": "stdout",
     "output_type": "stream",
     "text": [
      "-------------------------------------------\n",
      "Batch: 0\n",
      "-------------------------------------------\n"
     ]
    },
    {
     "name": "stderr",
     "output_type": "stream",
     "text": [
      "23/06/24 22:03:28 INFO CodeGenerator: Code generated in 17.518396 ms\n",
      "23/06/24 22:03:28 INFO CodeGenerator: Code generated in 30.702781 ms\n"
     ]
    },
    {
     "name": "stdout",
     "output_type": "stream",
     "text": [
      "+-----+--------------------+------------+------------+------------+------------+------------+-------+-------+----------+-----+------------+---------+--------------------+\n",
      "|TxnID|           EventTime|          V4|          V9|         V11|         V14|         V16| Amount|IsFraud|LocationID|AccNo|IsRedemption|partition|             msgTime|\n",
      "+-----+--------------------+------------+------------+------------+------------+------------+-------+-------+----------+-----+------------+---------+--------------------+\n",
      "|    7|2021-04-05 14:07:...| 1.202612737| 0.464959995|-1.416907243| 0.167371963|-0.443586798| 499.73|      0|        11|   47|           0|        5|2023-06-24 18:51:...|\n",
      "|   17|2021-04-05 14:20:...|  1.28909147| 0.782332892| -0.45031128|-0.468647288|-0.246634656|1299.55|      0|         5|   65|           0|        5|2023-06-24 19:13:...|\n",
      "|   26|2021-04-05 14:37:...| 0.410007514| 0.475664018|-0.856566364|-0.279796856| -0.33332061|2643.27|      0|         7|   53|           0|        5|2023-06-24 19:17:...|\n",
      "|   30|2021-04-05 14:39:...| 1.186109955| 0.699499676| 1.048292488|-0.039914502| 0.004475682|1299.87|      0|        10|   47|           0|        5|2023-06-24 19:17:...|\n",
      "|   35|2021-04-05 14:44:...| 0.147575474|-0.285641861|  0.87179958| 0.102252103|-0.285912497| 177.62|      0|         6|   57|           0|        5|2023-06-24 20:00:...|\n",
      "|   36|2021-04-05 14:44:...| 0.147575474|-0.285641861|  0.87179958| 0.102252103|-0.285912497|  177.2|      0|         7|   53|           0|        5|2023-06-24 20:00:...|\n",
      "|   44|2021-04-05 14:55:...|-1.077964912|-0.040471746| 1.552109306|-0.233899925| 0.844368277| 910.86|      0|        12|   44|           0|        5|2023-06-24 20:02:...|\n",
      "|   58|2021-04-05 15:05:...|-0.701232148|-0.017778824|-0.765047306|-0.041200001| 0.030533314|1384.82|      0|        15|   19|           0|        5|2023-06-24 20:09:...|\n",
      "|   62|2021-04-05 15:09:...|-0.330070103| 0.134628232|-0.895187598|-0.586610839|-0.891720829|9694.94|      0|        19|   13|           0|        5|2023-06-24 20:20:...|\n",
      "|   69|2021-04-05 15:14:...| 0.544473989| 0.226278275| 1.944544873| 0.314166276|-1.333716473|4571.92|      0|        14|   37|           0|        5|2023-06-24 20:20:...|\n",
      "|   75|2021-04-05 15:20:...| 1.112261526| 0.690271532|-0.161964842|-0.405832818|-1.423020649|2672.63|      0|        20|   14|           0|        5|2023-06-24 20:21:...|\n",
      "|   87|2021-04-05 15:32:...|-0.236070161|-0.761089559| 1.504134894|-0.665286836| 0.803106054|   76.3|      0|        21|   23|           0|        5|2023-06-24 20:26:...|\n",
      "|   93|2021-04-05 15:40:...| 1.476397993| 0.144420201|-0.107560298|-0.070889338|-0.853479419| 2672.7|      0|         3|   91|           0|        5|2023-06-24 20:26:...|\n",
      "|  107|2021-04-05 15:57:...| 0.024741782| 1.252403913| -1.37903159|-0.926168244| -0.49307804|2180.14|      0|         5|   65|           0|        5|2023-06-24 20:26:...|\n",
      "|  117|2021-04-05 16:05:...| 3.481485834| 0.348430743| -0.97215812|-1.483889818|-1.020169595|8113.12|      0|         1|   30|           0|        5|2023-06-24 20:26:...|\n",
      "|  120|2021-04-05 16:09:...|  0.92437833|-0.584844218| 0.138042275| 0.978769726|-1.912551282|1183.57|      0|        23|   24|           0|        5|2023-06-24 20:26:...|\n",
      "|  127|2021-04-05 16:12:...|-1.406989094| 0.344458123|-1.167889557| 0.071852159| 0.538994244|8000.67|      0|        16|    5|           0|        5|2023-06-24 20:26:...|\n",
      "|  128|2021-04-05 16:14:...|-0.325043259| 0.078701416|-1.781658732|-0.113361055| 0.120701514|3251.35|      0|        23|   33|           0|        5|2023-06-24 20:26:...|\n",
      "|  134|2021-04-05 16:19:...| 2.612864129|-0.738599157|-0.295198868|-0.430302036|-0.335318928|7991.39|      0|        14|   12|           0|        5|2023-06-24 20:26:...|\n",
      "|  136|2021-04-05 16:20:...|-0.651693123| 2.019905427|-0.672739778| 0.055688194|-0.396080396|6730.89|      0|         4|   70|           0|        5|2023-06-24 20:26:...|\n",
      "+-----+--------------------+------------+------------+------------+------------+------------+-------+-------+----------+-----+------------+---------+--------------------+\n",
      "only showing top 20 rows\n",
      "\n"
     ]
    },
    {
     "name": "stderr",
     "output_type": "stream",
     "text": [
      "23/06/24 22:03:28 WARN ProcessingTimeExecutor: Current batch is falling behind. The trigger interval is 1000 milliseconds, but spent 5907 milliseconds\n"
     ]
    },
    {
     "name": "stdout",
     "output_type": "stream",
     "text": [
      "-------------------------------------------\n",
      "Batch: 1\n",
      "-------------------------------------------\n",
      "+-----+--------------------+------------+------------+------------+------------+------------+-------+-------+----------+-----+------------+---------+--------------------+\n",
      "|TxnID|           EventTime|          V4|          V9|         V11|         V14|         V16| Amount|IsFraud|LocationID|AccNo|IsRedemption|partition|             msgTime|\n",
      "+-----+--------------------+------------+------------+------------+------------+------------+-------+-------+----------+-----+------------+---------+--------------------+\n",
      "| 1291|2021-04-06 17:47:...| 1.346392066| 0.203681958| 1.132442591| 0.524115414|-0.526159908|2043.13|      0|        16|   33|           0|        5|2023-06-24 22:03:...|\n",
      "| 1293|2021-04-06 17:49:...|-0.003437134|-0.214680727|-0.095228433| 0.104814624|  0.08652948| 495.97|      0|         3|   91|           0|        5|2023-06-24 22:03:...|\n",
      "| 1294|2021-04-06 17:49:...| 0.559108426|-0.088550049|-0.008148463|-0.463128457|  0.24891617|1294.93|      0|         4|   70|           0|        0|2023-06-24 22:03:...|\n",
      "| 1292|2021-04-06 17:47:...| 1.266919282| 0.031451209|-0.015839295| 0.541487114|-0.076335468|2600.07|      0|         7|   53|           0|        2|2023-06-24 22:03:...|\n",
      "+-----+--------------------+------------+------------+------------+------------+------------+-------+-------+----------+-----+------------+---------+--------------------+\n",
      "\n"
     ]
    },
    {
     "name": "stderr",
     "output_type": "stream",
     "text": [
      "23/06/24 22:03:56 WARN ProcessingTimeExecutor: Current batch is falling behind. The trigger interval is 1000 milliseconds, but spent 1231 milliseconds\n"
     ]
    },
    {
     "name": "stdout",
     "output_type": "stream",
     "text": [
      "-------------------------------------------\n",
      "Batch: 2\n",
      "-------------------------------------------\n",
      "+-----+--------------------+------------+------------+------------+------------+------------+--------+-------+----------+-----+------------+---------+--------------------+\n",
      "|TxnID|           EventTime|          V4|          V9|         V11|         V14|         V16|  Amount|IsFraud|LocationID|AccNo|IsRedemption|partition|             msgTime|\n",
      "+-----+--------------------+------------+------------+------------+------------+------------+--------+-------+----------+-----+------------+---------+--------------------+\n",
      "| 1297|2021-04-06 18:02:...|-0.048508381| 0.092823192|-0.011986416|-0.915538603| 0.199460912|  999.38|      0|        20|    7|           0|        0|2023-06-24 22:03:...|\n",
      "| 1298|2021-04-06 18:12:...| 0.863117413| 0.834693947| 1.631862587|-4.440848307| 1.060899727|  145.02|      0|         9|   50|           0|        0|2023-06-24 22:03:...|\n",
      "| 1295|2021-04-06 17:54:...|-1.024341985| -1.79075997| 1.042804252|-0.022109883| -1.06923042| 1000.43|      0|        16|   16|           0|        1|2023-06-24 22:03:...|\n",
      "| 1299|2021-04-06 18:14:...| 0.933292622|-0.837461396|-0.661121685|-0.404798358|-1.477145294|30695.21|      0|        17|   26|           0|        1|2023-06-24 22:03:...|\n",
      "| 1296|2021-04-06 17:55:...| 1.382028827| 0.939210882| 0.207831877|  0.18756985|-0.432396338| 1100.08|      0|        24|   27|           0|        2|2023-06-24 22:03:...|\n",
      "+-----+--------------------+------------+------------+------------+------------+------------+--------+-------+----------+-----+------------+---------+--------------------+\n",
      "\n"
     ]
    },
    {
     "name": "stderr",
     "output_type": "stream",
     "text": [
      "23/06/24 22:03:57 WARN ProcessingTimeExecutor: Current batch is falling behind. The trigger interval is 1000 milliseconds, but spent 1018 milliseconds\n"
     ]
    },
    {
     "name": "stdout",
     "output_type": "stream",
     "text": [
      "-------------------------------------------\n",
      "Batch: 3\n",
      "-------------------------------------------\n",
      "+-----+--------------------+------------+------------+------------+------------+------------+--------+-------+----------+-----+------------+---------+--------------------+\n",
      "|TxnID|           EventTime|          V4|          V9|         V11|         V14|         V16|  Amount|IsFraud|LocationID|AccNo|IsRedemption|partition|             msgTime|\n",
      "+-----+--------------------+------------+------------+------------+------------+------------+--------+-------+----------+-----+------------+---------+--------------------+\n",
      "| 1300|2021-04-06 18:17:...|-0.750239813|-0.876722259| 0.988920253|-0.028895529|-0.613106906| 3297.07|      0|         5|   65|           0|        0|2023-06-24 22:03:...|\n",
      "| 1301|2021-04-06 18:20:...| 1.707263662| -0.08975873|-0.529581256| 0.223668547|-0.348941992|43100.52|      0|        19|   23|           0|        4|2023-06-24 22:03:...|\n",
      "| 1302|2021-04-06 18:22:...|-0.932665861| 1.985469182|-1.572032531|-0.117009321|-0.299335848|19500.51|      0|         1|  300|           0|        3|2023-06-24 22:03:...|\n",
      "| 1303|2021-04-06 18:24:...| 1.944591648| 1.697493501|-0.813248184|-0.960875722|-0.945767958| 8440.36|      0|        18|    8|           0|        2|2023-06-24 22:03:...|\n",
      "+-----+--------------------+------------+------------+------------+------------+------------+--------+-------+----------+-----+------------+---------+--------------------+\n",
      "\n"
     ]
    },
    {
     "name": "stderr",
     "output_type": "stream",
     "text": [
      "23/06/24 22:03:58 WARN ProcessingTimeExecutor: Current batch is falling behind. The trigger interval is 1000 milliseconds, but spent 1008 milliseconds\n"
     ]
    },
    {
     "name": "stdout",
     "output_type": "stream",
     "text": [
      "-------------------------------------------\n",
      "Batch: 4\n",
      "-------------------------------------------\n",
      "+-----+--------------------+------------+------------+------------+------------+------------+--------+-------+----------+-----+------------+---------+--------------------+\n",
      "|TxnID|           EventTime|          V4|          V9|         V11|         V14|         V16|  Amount|IsFraud|LocationID|AccNo|IsRedemption|partition|             msgTime|\n",
      "+-----+--------------------+------------+------------+------------+------------+------------+--------+-------+----------+-----+------------+---------+--------------------+\n",
      "| 1305|2021-04-06 18:24:...|-0.161764886|-0.406495333| 1.153530606| 0.081534199| 0.455390916|  951.84|      0|        10|   47|           0|        5|2023-06-24 22:03:...|\n",
      "| 1304|2021-04-06 18:24:...|-0.589063455|-0.228442576|-0.746476542| 0.816854008| 0.734554783|15800.34|      0|         7|   53|           0|        0|2023-06-24 22:03:...|\n",
      "| 1307|2021-04-06 18:29:...|-2.858890227| 1.808856724|   0.2148368| 0.440616308|-0.190385501|  800.07|      0|        18|   23|           0|        0|2023-06-24 22:03:...|\n",
      "| 1306|2021-04-06 18:25:...|   0.5488262|-0.297402136| 1.743027483| 0.357868145| 0.418345987|  198.21|      0|         1|  300|           0|        4|2023-06-24 22:03:...|\n",
      "| 1308|2021-04-06 18:30:...|-0.362721543| 0.755253524| 0.175735864|-0.629713693|-0.402156809| 1082.93|      0|         4|   70|           0|        3|2023-06-24 22:03:...|\n",
      "+-----+--------------------+------------+------------+------------+------------+------------+--------+-------+----------+-----+------------+---------+--------------------+\n",
      "\n",
      "-------------------------------------------\n",
      "Batch: 5\n",
      "-------------------------------------------\n",
      "+-----+--------------------+------------+------------+------------+------------+------------+-------+-------+----------+-----+------------+---------+--------------------+\n",
      "|TxnID|           EventTime|          V4|          V9|         V11|         V14|         V16| Amount|IsFraud|LocationID|AccNo|IsRedemption|partition|             msgTime|\n",
      "+-----+--------------------+------------+------------+------------+------------+------------+-------+-------+----------+-----+------------+---------+--------------------+\n",
      "| 1309|2021-04-06 18:30:...| 0.496992231| 0.244460496| 1.276406364|  0.43881087| 0.089079296|15800.4|      0|         5|   65|           0|        5|2023-06-24 22:03:...|\n",
      "| 1312|2021-04-06 18:35:...| 1.026400765|-0.602235805| 0.005792361| 0.318902517|-0.394458105|4950.63|      0|         2|  140|           0|        4|2023-06-24 22:03:...|\n",
      "| 1313|2021-04-06 18:35:...| 0.325057886| 0.276571999|-1.268450777|-0.143319729| 0.641635866| 258.41|      0|        12|   44|           0|        4|2023-06-24 22:03:...|\n",
      "| 1310|2021-04-06 18:32:...|-0.374217315|-0.272008739| 0.873969058| 0.623570359| 0.287658179| 100.26|      0|        22|   26|           0|        1|2023-06-24 22:03:...|\n",
      "| 1311|2021-04-06 18:34:...|-2.875219163| 1.833392546| 0.089358269| 0.686804172|-0.091296393| 100.18|      0|        20|   10|           0|        1|2023-06-24 22:03:...|\n",
      "+-----+--------------------+------------+------------+------------+------------+------------+-------+-------+----------+-----+------------+---------+--------------------+\n",
      "\n",
      "-------------------------------------------\n",
      "Batch: 6\n",
      "-------------------------------------------\n",
      "+-----+--------------------+------------+------------+------------+------------+------------+-------+-------+----------+-----+------------+---------+--------------------+\n",
      "|TxnID|           EventTime|          V4|          V9|         V11|         V14|         V16| Amount|IsFraud|LocationID|AccNo|IsRedemption|partition|             msgTime|\n",
      "+-----+--------------------+------------+------------+------------+------------+------------+-------+-------+----------+-----+------------+---------+--------------------+\n",
      "| 1318|2021-04-06 18:44:...|-1.370662428|-0.112186434| 0.017826362|-0.216232441| 0.295334307| 258.39|      0|         4|   70|           0|        0|2023-06-24 22:03:...|\n",
      "| 1319|2021-04-06 18:44:...|-0.707934665|-1.096599451|-0.700017456|-0.953329437| 1.285315079|1999.72|      0|         6|   57|           0|        0|2023-06-24 22:04:...|\n",
      "| 1315|2021-04-06 18:37:...|-0.379675209| 0.773833169| 0.053260623|-0.387968032|-0.293721585|1749.52|      0|        24|   18|           0|        1|2023-06-24 22:03:...|\n",
      "| 1314|2021-04-06 18:35:...|-2.389200215| 3.074448873|  2.53608624|-2.464871362|-0.450301426|  92.79|      0|         5|   65|           0|        3|2023-06-24 22:03:...|\n",
      "| 1316|2021-04-06 18:37:...| 0.007014356|-0.384015363| 1.439081427| 0.021583568| 0.573464979| 178.46|      0|         7|   53|           0|        3|2023-06-24 22:03:...|\n",
      "| 1317|2021-04-06 18:37:...|-1.347693856| 1.916998207| -0.24482969| -0.06159096| 0.119737398|4299.57|      0|         6|   57|           0|        3|2023-06-24 22:03:...|\n",
      "+-----+--------------------+------------+------------+------------+------------+------------+-------+-------+----------+-----+------------+---------+--------------------+\n",
      "\n"
     ]
    },
    {
     "name": "stderr",
     "output_type": "stream",
     "text": [
      "23/06/24 22:04:01 WARN ProcessingTimeExecutor: Current batch is falling behind. The trigger interval is 1000 milliseconds, but spent 1218 milliseconds\n"
     ]
    },
    {
     "name": "stdout",
     "output_type": "stream",
     "text": [
      "-------------------------------------------\n",
      "Batch: 7\n",
      "-------------------------------------------\n",
      "+-----+--------------------+------------+------------+------------+------------+------------+--------+-------+----------+-----+------------+---------+--------------------+\n",
      "|TxnID|           EventTime|          V4|          V9|         V11|         V14|         V16|  Amount|IsFraud|LocationID|AccNo|IsRedemption|partition|             msgTime|\n",
      "+-----+--------------------+------------+------------+------------+------------+------------+--------+-------+----------+-----+------------+---------+--------------------+\n",
      "| 1320|2021-04-06 18:44:...|-0.866310473| -0.67428956|-0.663034949| 0.294923938| 0.108927849|23315.46|      0|        21|   33|           0|        5|2023-06-24 22:04:...|\n",
      "| 1321|2021-04-06 18:45:...|  1.30531683|-0.363527291| 1.403111135|-0.057040989|-1.074233627|15575.91|      0|        14|   34|           0|        5|2023-06-24 22:04:...|\n",
      "| 1322|2021-04-06 18:47:...| 0.677032585|-0.123879566|-0.937063325|-0.265104742|-0.766003718| 7613.26|      0|        15|   21|           0|        5|2023-06-24 22:04:...|\n",
      "| 1323|2021-04-06 18:47:...| 0.220136842| 0.143346036| 1.208400727|-1.089795328|-0.087823827|  500.78|      0|         8|   50|           0|        0|2023-06-24 22:04:...|\n",
      "| 1324|2021-04-06 18:47:...| 1.439199958| 0.432672918|  0.80857352| 0.314351817|-0.212719347|  995.94|      0|         2|  140|           0|        2|2023-06-24 22:04:...|\n",
      "+-----+--------------------+------------+------------+------------+------------+------------+--------+-------+----------+-----+------------+---------+--------------------+\n",
      "\n"
     ]
    },
    {
     "name": "stderr",
     "output_type": "stream",
     "text": [
      "23/06/24 22:04:02 WARN ProcessingTimeExecutor: Current batch is falling behind. The trigger interval is 1000 milliseconds, but spent 1074 milliseconds\n"
     ]
    },
    {
     "name": "stdout",
     "output_type": "stream",
     "text": [
      "-------------------------------------------\n",
      "Batch: 8\n",
      "-------------------------------------------\n",
      "+-----+--------------------+------------+-----------+------------+------------+------------+--------+-------+----------+-----+------------+---------+--------------------+\n",
      "|TxnID|           EventTime|          V4|         V9|         V11|         V14|         V16|  Amount|IsFraud|LocationID|AccNo|IsRedemption|partition|             msgTime|\n",
      "+-----+--------------------+------------+-----------+------------+------------+------------+--------+-------+----------+-----+------------+---------+--------------------+\n",
      "| 1327|2021-04-06 18:52:...| -0.30209026|0.082100546|-1.101503606|  0.51978435| 0.176891631|  100.42|      0|         8|   50|           0|        4|2023-06-24 22:04:...|\n",
      "| 1325|2021-04-06 18:50:...| 0.569119287|0.598569781|  -0.6990663| 0.335024861|-0.021687251|15800.21|      0|         1|   30|           0|        3|2023-06-24 22:04:...|\n",
      "| 1326|2021-04-06 18:50:...|-2.427066642|1.212576394|-1.163873456|-0.710599281|-0.065684073|15800.57|      0|        24|   16|           0|        3|2023-06-24 22:04:...|\n",
      "+-----+--------------------+------------+-----------+------------+------------+------------+--------+-------+----------+-----+------------+---------+--------------------+\n",
      "\n",
      "-------------------------------------------\n",
      "Batch: 9\n",
      "-------------------------------------------\n",
      "+-----+--------------------+------------+------------+-----------+-----------+------------+--------+-------+----------+-----+------------+---------+--------------------+\n",
      "|TxnID|           EventTime|          V4|          V9|        V11|        V14|         V16|  Amount|IsFraud|LocationID|AccNo|IsRedemption|partition|             msgTime|\n",
      "+-----+--------------------+------------+------------+-----------+-----------+------------+--------+-------+----------+-----+------------+---------+--------------------+\n",
      "| 1329|2021-04-06 18:54:...|-2.723154987| 0.185709845|0.845414768|0.559587939|-0.421684423|16000.77|      0|         9|   50|           0|        0|2023-06-24 22:04:...|\n",
      "| 1331|2021-04-06 18:55:...| 0.741072106|-0.235291967|1.452341456|0.296938567|-0.202751651| 17300.6|      0|        14|   37|           0|        0|2023-06-24 22:04:...|\n",
      "| 1328|2021-04-06 18:54:...| -1.47553028| 0.278816017|1.413063712| 0.24206627|  -1.5791001|14998.74|      0|         2|  140|           0|        3|2023-06-24 22:04:...|\n",
      "| 1330|2021-04-06 18:54:...| 0.549027397|-0.206778154|0.757366168|0.024752646|-0.599821982| 2500.53|      0|        14|   15|           0|        2|2023-06-24 22:04:...|\n",
      "+-----+--------------------+------------+------------+-----------+-----------+------------+--------+-------+----------+-----+------------+---------+--------------------+\n",
      "\n",
      "-------------------------------------------\n",
      "Batch: 10\n",
      "-------------------------------------------\n",
      "+-----+--------------------+------------+------------+------------+-----------+------------+--------+-------+----------+-----+------------+---------+--------------------+\n",
      "|TxnID|           EventTime|          V4|          V9|         V11|        V14|         V16|  Amount|IsFraud|LocationID|AccNo|IsRedemption|partition|             msgTime|\n",
      "+-----+--------------------+------------+------------+------------+-----------+------------+--------+-------+----------+-----+------------+---------+--------------------+\n",
      "| 1333|2021-04-06 18:55:...| 1.379617265|-1.345195504|-0.572898883|0.300558268| 0.607204798|   528.1|      0|        21|   32|           0|        5|2023-06-24 22:04:...|\n",
      "| 1335|2021-04-06 18:57:...|-2.385246464| 0.382263735|  0.73829173|0.846831337| -0.47441863|  100.72|      0|        24|   15|           0|        5|2023-06-24 22:04:...|\n",
      "| 1334|2021-04-06 18:55:...| 0.339344659| 0.352968593|-1.059512296|0.330678137|-0.082797425|27472.94|      0|        23|   37|           1|        1|2023-06-24 22:04:...|\n",
      "| 1332|2021-04-06 18:55:...|  0.90538888|-0.266421125| 0.500160452|-1.10731082| 0.336521339|   76.28|      0|        13|   44|           0|        3|2023-06-24 22:04:...|\n",
      "+-----+--------------------+------------+------------+------------+-----------+------------+--------+-------+----------+-----+------------+---------+--------------------+\n",
      "\n",
      "-------------------------------------------\n",
      "Batch: 11\n",
      "-------------------------------------------\n",
      "+-----+--------------------+------------+-----------+------------+------------+------------+--------+-------+----------+-----+------------+---------+--------------------+\n",
      "|TxnID|           EventTime|          V4|         V9|         V11|         V14|         V16|  Amount|IsFraud|LocationID|AccNo|IsRedemption|partition|             msgTime|\n",
      "+-----+--------------------+------------+-----------+------------+------------+------------+--------+-------+----------+-----+------------+---------+--------------------+\n",
      "| 1337|2021-04-06 19:02:...|-0.619303717|0.194018078|-1.325985777| -0.44683982| 0.247655884|15800.81|      0|         9|   50|           1|        4|2023-06-24 22:04:...|\n",
      "| 1336|2021-04-06 18:59:...| 0.582719458|0.493936538| 1.011251759| 0.453184936|-0.084879459|15800.78|      0|         2|  140|           1|        1|2023-06-24 22:04:...|\n",
      "| 1338|2021-04-06 19:02:...|-1.188207911|0.197159957| 0.642153405|-0.136593315| 0.247292421|15800.19|      0|         5|   65|           0|        3|2023-06-24 22:04:...|\n",
      "+-----+--------------------+------------+-----------+------------+------------+------------+--------+-------+----------+-----+------------+---------+--------------------+\n",
      "\n",
      "-------------------------------------------\n",
      "Batch: 12\n",
      "-------------------------------------------\n",
      "+-----+--------------------+------------+-----------+------------+-----------+-----------+------+-------+----------+-----+------------+---------+--------------------+\n",
      "|TxnID|           EventTime|          V4|         V9|         V11|        V14|        V16|Amount|IsFraud|LocationID|AccNo|IsRedemption|partition|             msgTime|\n",
      "+-----+--------------------+------------+-----------+------------+-----------+-----------+------+-------+----------+-----+------------+---------+--------------------+\n",
      "| 1340|2021-04-06 19:04:...|-0.541977054|0.202998396|-1.430680747|-0.17829094|0.266642629|100.58|      0|        21|   33|           0|        5|2023-06-24 22:04:...|\n",
      "| 1339|2021-04-06 19:02:...| 2.482415643|-0.82696411|-0.418789954|0.147011384|0.686849236|468.43|      0|        15|   33|           0|        4|2023-06-24 22:04:...|\n",
      "+-----+--------------------+------------+-----------+------------+-----------+-----------+------+-------+----------+-----+------------+---------+--------------------+\n",
      "\n",
      "-------------------------------------------\n",
      "Batch: 13\n",
      "-------------------------------------------\n",
      "+-----+--------------------+------------+------------+-----------+-----------+-----------+-------+-------+----------+-----+------------+---------+--------------------+\n",
      "|TxnID|           EventTime|          V4|          V9|        V11|        V14|        V16| Amount|IsFraud|LocationID|AccNo|IsRedemption|partition|             msgTime|\n",
      "+-----+--------------------+------------+------------+-----------+-----------+-----------+-------+-------+----------+-----+------------+---------+--------------------+\n",
      "| 1341|2021-04-06 19:04:...|-0.029589849|-0.967716549|1.054138099|0.434382479|0.176420119|9118.63|      0|        22|   20|           0|        4|2023-06-24 22:04:...|\n",
      "| 1342|2021-04-06 19:04:...|-0.088815998|-0.495153568|1.286119262|0.579581903|0.389161677| 269.51|      0|        11|   47|           0|        2|2023-06-24 22:04:...|\n",
      "| 1343|2021-04-06 19:04:...| 0.508260245|-0.193727927|1.457682024|0.464187581|0.506568504|  450.0|      0|        13|   44|           0|        2|2023-06-24 22:04:...|\n",
      "+-----+--------------------+------------+------------+-----------+-----------+-----------+-------+-------+----------+-----+------------+---------+--------------------+\n",
      "\n"
     ]
    },
    {
     "name": "stderr",
     "output_type": "stream",
     "text": [
      "23/06/24 22:04:44 WARN ProcessingTimeExecutor: Current batch is falling behind. The trigger interval is 1000 milliseconds, but spent 1065 milliseconds\n"
     ]
    },
    {
     "name": "stdout",
     "output_type": "stream",
     "text": [
      "-------------------------------------------\n",
      "Batch: 14\n",
      "-------------------------------------------\n",
      "+-----+--------------------+-----------+------------+------------+------------+-----------+------+-------+----------+-----+------------+---------+--------------------+\n",
      "|TxnID|           EventTime|         V4|          V9|         V11|         V14|        V16|Amount|IsFraud|LocationID|AccNo|IsRedemption|partition|             msgTime|\n",
      "+-----+--------------------+-----------+------------+------------+------------+-----------+------+-------+----------+-----+------------+---------+--------------------+\n",
      "| 1344|2021-04-06 19:05:...|0.074710601|-0.371528843|-0.239423103|-0.400583308|0.389658544|499.96|      0|         6|   57|           0|        1|2023-06-24 22:04:...|\n",
      "| 1345|2021-04-06 19:07:...|-0.51667359|-0.684477828| 1.252563733| -0.21592856|0.722707777|950.83|      0|        10|   47|           0|        1|2023-06-24 22:04:...|\n",
      "| 1346|2021-04-06 19:09:...|2.360856353|-1.007299665| 1.610349488| 0.533100209|0.622250598| 547.9|      0|        10|   47|           0|        2|2023-06-24 22:04:...|\n",
      "+-----+--------------------+-----------+------------+------------+------------+-----------+------+-------+----------+-----+------------+---------+--------------------+\n",
      "\n",
      "-------------------------------------------\n",
      "Batch: 15\n",
      "-------------------------------------------\n",
      "+-----+--------------------+------------+------------+-----------+-----------+-----------+--------+-------+----------+-----+------------+---------+--------------------+\n",
      "|TxnID|           EventTime|          V4|          V9|        V11|        V14|        V16|  Amount|IsFraud|LocationID|AccNo|IsRedemption|partition|             msgTime|\n",
      "+-----+--------------------+------------+------------+-----------+-----------+-----------+--------+-------+----------+-----+------------+---------+--------------------+\n",
      "| 1348|2021-04-06 19:12:...| 1.030910845|-0.210791003|1.690728588|0.267547282|0.470020757|   12.45|      0|        22|    9|           0|        5|2023-06-24 22:04:...|\n",
      "| 1349|2021-04-06 19:12:...|-0.190476017|-0.206115511|0.651839633|0.795950555|0.509871603| 4448.47|      0|        11|   47|           0|        5|2023-06-24 22:04:...|\n",
      "| 1347|2021-04-06 19:10:...| 0.130943175| 1.196463758|0.516678923|0.098478808|-1.36888461|19883.98|      0|         1|  300|           0|        3|2023-06-24 22:04:...|\n",
      "+-----+--------------------+------------+------------+-----------+-----------+-----------+--------+-------+----------+-----+------------+---------+--------------------+\n",
      "\n",
      "-------------------------------------------\n",
      "Batch: 16\n",
      "-------------------------------------------\n",
      "+-----+--------------------+-----------+------------+-----------+------------+------------+-------+-------+----------+-----+------------+---------+--------------------+\n",
      "|TxnID|           EventTime|         V4|          V9|        V11|         V14|         V16| Amount|IsFraud|LocationID|AccNo|IsRedemption|partition|             msgTime|\n",
      "+-----+--------------------+-----------+------------+-----------+------------+------------+-------+-------+----------+-----+------------+---------+--------------------+\n",
      "| 1350|2021-04-06 19:12:...|-0.05624939|-0.496186188|0.067340757|-0.089057684|-0.273956033|3626.28|      0|         4|   70|           0|        0|2023-06-24 22:04:...|\n",
      "| 1352|2021-04-06 19:14:...|0.309031837|-0.279046238|0.878976785| 0.229949345| 0.703999062| 899.33|      0|        20|   37|           0|        0|2023-06-24 22:04:...|\n",
      "| 1353|2021-04-06 19:14:...|0.268595771|-0.685509737|1.710067557| 0.431314144|-0.330621765|  90.37|      0|        18|   38|           0|        4|2023-06-24 22:04:...|\n",
      "| 1351|2021-04-06 19:12:...|0.763135383| -0.72478472|0.563048614| 0.440332121| 0.065915547| 4189.2|      0|        12|   44|           0|        3|2023-06-24 22:04:...|\n",
      "+-----+--------------------+-----------+------------+-----------+------------+------------+-------+-------+----------+-----+------------+---------+--------------------+\n",
      "\n",
      "-------------------------------------------\n",
      "Batch: 17\n",
      "-------------------------------------------\n",
      "+-----+--------------------+-----------+------------+------------+------------+------------+-------+-------+----------+-----+------------+---------+--------------------+\n",
      "|TxnID|           EventTime|         V4|          V9|         V11|         V14|         V16| Amount|IsFraud|LocationID|AccNo|IsRedemption|partition|             msgTime|\n",
      "+-----+--------------------+-----------+------------+------------+------------+------------+-------+-------+----------+-----+------------+---------+--------------------+\n",
      "| 1355|2021-04-06 19:15:...|0.878106378|-0.880670707| 2.740796228|-3.764570278| 0.873857183| 233.55|      0|         3|   91|           0|        0|2023-06-24 22:04:...|\n",
      "| 1356|2021-04-06 19:17:...|2.312421108|-0.239962751|-0.106858502|-0.512123965| 1.104243596| 100.65|      0|         3|   91|           0|        0|2023-06-24 22:04:...|\n",
      "| 1357|2021-04-06 19:17:...|2.225925543|-1.251713254| 0.649648272| 0.038879936|-0.828606946|3033.14|      0|        14|   29|           0|        0|2023-06-24 22:04:...|\n",
      "| 1354|2021-04-06 19:15:...| 0.78725868|-0.331145257|-0.914413553|-0.651842732|-1.415811494|2148.63|      0|         1|   30|           0|        1|2023-06-24 22:04:...|\n",
      "| 1358|2021-04-06 19:19:...|2.670064346|-1.808595149| 1.564406751| 0.190509711| 0.255050943|1062.11|      0|        19|   29|           0|        3|2023-06-24 22:04:...|\n",
      "+-----+--------------------+-----------+------------+------------+------------+------------+-------+-------+----------+-----+------------+---------+--------------------+\n",
      "\n",
      "-------------------------------------------\n",
      "Batch: 18\n",
      "-------------------------------------------\n",
      "+-----+--------------------+-----------+------------+------------+------------+------------+--------+-------+----------+-----+------------+---------+--------------------+\n",
      "|TxnID|           EventTime|         V4|          V9|         V11|         V14|         V16|  Amount|IsFraud|LocationID|AccNo|IsRedemption|partition|             msgTime|\n",
      "+-----+--------------------+-----------+------------+------------+------------+------------+--------+-------+----------+-----+------------+---------+--------------------+\n",
      "| 1359|2021-04-06 19:19:...|0.319854514|-0.461501162|-0.980264093|-0.307857111| 0.419337615|  912.23|      0|         7|   53|           0|        5|2023-06-24 22:04:...|\n",
      "| 1360|2021-04-06 19:19:...|3.551137319| 0.450434271|-1.693704523|-1.280193544|-0.652894706|19633.61|      0|        24|   31|           0|        5|2023-06-24 22:04:...|\n",
      "| 1361|2021-04-06 19:20:...|0.016995479| -0.47946142| 0.104480252|-0.509963425| 0.062720913|  228.46|      0|         7|   53|           0|        1|2023-06-24 22:04:...|\n",
      "+-----+--------------------+-----------+------------+------------+------------+------------+--------+-------+----------+-----+------------+---------+--------------------+\n",
      "\n",
      "-------------------------------------------\n",
      "Batch: 19\n",
      "-------------------------------------------\n",
      "+-----+--------------------+------------+------------+------------+------------+------------+-------+-------+----------+-----+------------+---------+--------------------+\n",
      "|TxnID|           EventTime|          V4|          V9|         V11|         V14|         V16| Amount|IsFraud|LocationID|AccNo|IsRedemption|partition|             msgTime|\n",
      "+-----+--------------------+------------+------------+------------+------------+------------+-------+-------+----------+-----+------------+---------+--------------------+\n",
      "| 1362|2021-04-06 19:22:...| 0.243825733| 1.554454075|-1.622257779|-1.805405303|-0.770644341|3214.96|      0|        21|   27|           0|        4|2023-06-24 22:04:...|\n",
      "| 1364|2021-04-06 19:24:...|  0.11123461|-0.760241161| -0.22153259| 0.427678611|  0.18556357| 625.99|      0|        18|   39|           0|        4|2023-06-24 22:04:...|\n",
      "| 1363|2021-04-06 19:22:...|-0.733083266| 0.648343833| 0.471910908|-0.738475989| 0.418406027|1299.57|      0|        18|   19|           0|        3|2023-06-24 22:04:...|\n",
      "+-----+--------------------+------------+------------+------------+------------+------------+-------+-------+----------+-----+------------+---------+--------------------+\n",
      "\n",
      "-------------------------------------------\n",
      "Batch: 20\n",
      "-------------------------------------------\n",
      "+-----+--------------------+------------+------------+-----------+------------+------------+--------+-------+----------+-----+------------+---------+--------------------+\n",
      "|TxnID|           EventTime|          V4|          V9|        V11|         V14|         V16|  Amount|IsFraud|LocationID|AccNo|IsRedemption|partition|             msgTime|\n",
      "+-----+--------------------+------------+------------+-----------+------------+------------+--------+-------+----------+-----+------------+---------+--------------------+\n",
      "| 1368|2021-04-06 19:29:...| 0.710021568|-0.823101579|0.665301341|   1.2024436|-0.123292954| 2187.64|      0|        19|   25|           0|        0|2023-06-24 22:04:...|\n",
      "| 1367|2021-04-06 19:27:...| -0.27760452|-0.452184775|0.624701912| 0.728436619| 0.295308917|15800.27|      0|         2|  140|           0|        4|2023-06-24 22:04:...|\n",
      "| 1365|2021-04-06 19:25:...| 1.465794156| 0.817241201|0.737417568|-0.850059696| -1.61847495| 6800.43|      0|        17|   10|           0|        2|2023-06-24 22:04:...|\n",
      "| 1366|2021-04-06 19:25:...|-0.432325691|-1.054958272| 0.19618025| -0.10048795|-1.381280203| 4843.62|      0|        22|   15|           0|        2|2023-06-24 22:04:...|\n",
      "+-----+--------------------+------------+------------+-----------+------------+------------+--------+-------+----------+-----+------------+---------+--------------------+\n",
      "\n",
      "-------------------------------------------\n",
      "Batch: 21\n",
      "-------------------------------------------\n",
      "+-----+--------------------+------------+------------+------------+------------+------------+--------+-------+----------+-----+------------+---------+--------------------+\n",
      "|TxnID|           EventTime|          V4|          V9|         V11|         V14|         V16|  Amount|IsFraud|LocationID|AccNo|IsRedemption|partition|             msgTime|\n",
      "+-----+--------------------+------------+------------+------------+------------+------------+--------+-------+----------+-----+------------+---------+--------------------+\n",
      "| 1370|2021-04-06 19:34:...|-0.685630327|-0.032810034|-0.334708488|-0.080327367| 1.245890172| 1690.22|      0|        22|    2|           1|        0|2023-06-24 22:04:...|\n",
      "| 1371|2021-04-06 19:35:...|-0.483958518|-0.073954224| 0.131562029|-0.113145246| 0.812676839|   99.58|      0|        20|   33|           0|        4|2023-06-24 22:04:...|\n",
      "| 1369|2021-04-06 19:30:...|-0.053419122|-0.160146991| 0.055956794| 0.214224299|-0.185329779|   899.7|      0|        16|   25|           0|        1|2023-06-24 22:04:...|\n",
      "| 1372|2021-04-06 19:35:...|-0.936380859|  0.82777455| 0.836631222|-1.067187732| 0.869747997|50000.95|      0|        15|    6|           0|        2|2023-06-24 22:04:...|\n",
      "+-----+--------------------+------------+------------+------------+------------+------------+--------+-------+----------+-----+------------+---------+--------------------+\n",
      "\n",
      "-------------------------------------------\n",
      "Batch: 22\n",
      "-------------------------------------------\n",
      "+-----+--------------------+------------+------------+-----------+------------+------------+--------+-------+----------+-----+------------+---------+--------------------+\n",
      "|TxnID|           EventTime|          V4|          V9|        V11|         V14|         V16|  Amount|IsFraud|LocationID|AccNo|IsRedemption|partition|             msgTime|\n",
      "+-----+--------------------+------------+------------+-----------+------------+------------+--------+-------+----------+-----+------------+---------+--------------------+\n",
      "| 1374|2021-04-06 19:37:...| -1.74874347|-2.774309409|1.432664292|  0.15626516|-1.336661644|  2000.3|      0|        18|   37|           0|        0|2023-06-24 22:04:...|\n",
      "| 1375|2021-04-06 19:42:...| 0.382111656| 0.716406058|0.168531007|-0.490574646| 0.172347529|22499.81|      0|        21|   35|           0|        1|2023-06-24 22:04:...|\n",
      "| 1373|2021-04-06 19:37:...|-0.385146305| 0.173560804|0.825366228|-0.409008178| 0.535376618|  350.97|      0|        16|   12|           0|        3|2023-06-24 22:04:...|\n",
      "+-----+--------------------+------------+------------+-----------+------------+------------+--------+-------+----------+-----+------------+---------+--------------------+\n",
      "\n",
      "-------------------------------------------\n",
      "Batch: 23\n",
      "-------------------------------------------\n",
      "+-----+--------------------+------------+------------+------------+------------+------------+--------+-------+----------+-----+------------+---------+--------------------+\n",
      "|TxnID|           EventTime|          V4|          V9|         V11|         V14|         V16|  Amount|IsFraud|LocationID|AccNo|IsRedemption|partition|             msgTime|\n",
      "+-----+--------------------+------------+------------+------------+------------+------------+--------+-------+----------+-----+------------+---------+--------------------+\n",
      "| 1379|2021-04-06 19:47:...|-0.181981046|-0.254466332| 0.586557623|  0.04341042|-0.064073391|15800.66|      0|        23|   10|           0|        5|2023-06-24 22:04:...|\n",
      "| 1376|2021-04-06 19:42:...|-1.579011256|-0.744203042| 1.218612967|-0.807916872| 0.766347976| 5000.41|      0|         5|   65|           0|        0|2023-06-24 22:04:...|\n",
      "| 1377|2021-04-06 19:45:...| 0.500020407|-0.198830687| 1.332410188|-0.103250439|  0.77236414|   89.82|      0|        22|   19|           0|        0|2023-06-24 22:04:...|\n",
      "| 1378|2021-04-06 19:47:...| -0.24744388|-0.483187314| 0.630005031| 0.175797043|-1.084936195|  1248.8|      0|        24|   12|           0|        0|2023-06-24 22:04:...|\n",
      "| 1380|2021-04-06 19:47:...| 1.283349498| 0.496920345|-0.181723646|-0.580688991|-1.071548512| 1095.86|      0|        11|   47|           0|        1|2023-06-24 22:04:...|\n",
      "| 1381|2021-04-06 19:49:...|-2.590226248|  0.99500384|-1.211423152|-0.431068518|-0.857142403|20237.67|      0|        12|   44|           0|        2|2023-06-24 22:04:...|\n",
      "+-----+--------------------+------------+------------+------------+------------+------------+--------+-------+----------+-----+------------+---------+--------------------+\n",
      "\n",
      "-------------------------------------------\n",
      "Batch: 24\n",
      "-------------------------------------------\n",
      "+-----+--------------------+------------+------------+------------+-----------+-----------+--------+-------+----------+-----+------------+---------+--------------------+\n",
      "|TxnID|           EventTime|          V4|          V9|         V11|        V14|        V16|  Amount|IsFraud|LocationID|AccNo|IsRedemption|partition|             msgTime|\n",
      "+-----+--------------------+------------+------------+------------+-----------+-----------+--------+-------+----------+-----+------------+---------+--------------------+\n",
      "| 1384|2021-04-06 19:50:...|-0.449657966|-0.385591083| -0.55381694|0.969620711|0.863809338|  100.27|      0|         5|   65|           0|        0|2023-06-24 22:04:...|\n",
      "| 1382|2021-04-06 19:50:...|-0.525779538|-0.424215004|-0.529027118|0.923712402|0.919011501|15800.87|      0|         3|   91|           0|        4|2023-06-24 22:04:...|\n",
      "| 1383|2021-04-06 19:50:...|-0.525779538|-0.424215004|-0.529027118|0.923712402|0.919011501|15800.85|      0|         7|   53|           0|        2|2023-06-24 22:04:...|\n",
      "+-----+--------------------+------------+------------+------------+-----------+-----------+--------+-------+----------+-----+------------+---------+--------------------+\n",
      "\n",
      "-------------------------------------------\n",
      "Batch: 25\n",
      "-------------------------------------------\n",
      "+-----+--------------------+------------+------------+------------+------------+------------+--------+-------+----------+-----+------------+---------+--------------------+\n",
      "|TxnID|           EventTime|          V4|          V9|         V11|         V14|         V16|  Amount|IsFraud|LocationID|AccNo|IsRedemption|partition|             msgTime|\n",
      "+-----+--------------------+------------+------------+------------+------------+------------+--------+-------+----------+-----+------------+---------+--------------------+\n",
      "| 1385|2021-04-06 19:50:...|-0.449657966|-0.385591083| -0.55381694| 0.969620711| 0.863809338|   100.4|      0|         6|   57|           0|        5|2023-06-24 22:04:...|\n",
      "| 1386|2021-04-06 19:50:...|-0.189536288|-0.409307518|-0.536793473|-0.349400862| 0.201969428|   897.4|      0|        16|   19|           0|        5|2023-06-24 22:04:...|\n",
      "| 1387|2021-04-06 19:52:...| 1.332323831|-0.553668742|-1.181854109|-0.218294908|-0.951853259|38411.65|      0|        20|   37|           0|        0|2023-06-24 22:04:...|\n",
      "| 1388|2021-04-06 19:55:...|-0.440885718| 0.044489233|-1.703501761|-0.044513211| 0.280059941|15800.15|      0|        18|   19|           0|        2|2023-06-24 22:04:...|\n",
      "+-----+--------------------+------------+------------+------------+------------+------------+--------+-------+----------+-----+------------+---------+--------------------+\n",
      "\n",
      "-------------------------------------------\n",
      "Batch: 26\n",
      "-------------------------------------------\n",
      "+-----+--------------------+------------+------------+------------+------------+------------+---------+-------+----------+-----+------------+---------+--------------------+\n",
      "|TxnID|           EventTime|          V4|          V9|         V11|         V14|         V16|   Amount|IsFraud|LocationID|AccNo|IsRedemption|partition|             msgTime|\n",
      "+-----+--------------------+------------+------------+------------+------------+------------+---------+-------+----------+-----+------------+---------+--------------------+\n",
      "| 1389|2021-04-06 19:55:...| 2.299749994|-0.238116043|-0.318436576|-1.095708801| 1.643440088|245203.21|      0|        13|   44|           0|        5|2023-06-24 22:04:...|\n",
      "| 1390|2021-04-06 19:55:...|-1.283972698| 1.028991382|-0.103401152| 0.561302701|-0.719650808|  16000.9|      0|        19|   38|           1|        5|2023-06-24 22:04:...|\n",
      "+-----+--------------------+------------+------------+------------+------------+------------+---------+-------+----------+-----+------------+---------+--------------------+\n",
      "\n"
     ]
    },
    {
     "name": "stderr",
     "output_type": "stream",
     "text": [
      "23/06/24 22:06:40 INFO SparkUI: Stopped Spark web UI at http://ip-10-0-2-15.ap-south-1.compute.internal:4040\n",
      "23/06/24 22:06:40 INFO ShutdownHookManager: Shutdown hook called\n",
      "23/06/24 22:06:40 INFO ShutdownHookManager: Deleting directory /tmp/temporary-d26256b7-63c1-4367-b45c-358948cb98e6\n",
      "23/06/24 22:06:40 INFO ShutdownHookManager: Deleting directory /tmp/spark-4a6869a4-81fb-4580-a16e-548e37491f82\n"
     ]
    }
   ],
   "source": [
    "val listAllQuery:streaming.StreamingQuery = df_expanded.writeStream\n",
    "    .format(\"console\")\n",
    "    .trigger(Trigger.ProcessingTime(\"1 seconds\"))\n",
    "    .outputMode(\"append\")\n",
    "    .start()\n",
    "\n",
    "listAllQuery.awaitTermination()"
   ]
  },
  {
   "cell_type": "code",
   "execution_count": null,
   "metadata": {
    "collapsed": true,
    "jupyter": {
     "outputs_hidden": true
    },
    "tags": []
   },
   "outputs": [
    {
     "name": "stderr",
     "output_type": "stream",
     "text": [
      "23/06/24 22:08:48 INFO CodeGenerator: Code generated in 1267.533806 ms\n",
      "23/06/24 22:08:49 INFO CodeGenerator: Code generated in 833.924088 ms\n",
      "23/06/24 22:08:49 INFO CodeGenerator: Code generated in 165.669036 ms\n",
      "23/06/24 22:08:49 INFO CodeGenerator: Code generated in 257.223396 ms\n",
      "23/06/24 22:08:54 INFO CodeGenerator: Code generated in 137.789653 ms\n",
      "23/06/24 22:08:55 INFO CodeGenerator: Code generated in 40.407025 ms\n",
      "23/06/24 22:08:55 INFO CodeGenerator: Code generated in 25.8959 ms\n",
      "23/06/24 22:08:55 INFO CodeGenerator: Code generated in 90.836712 ms\n",
      "23/06/24 22:08:55 INFO CodeGenerator: Code generated in 58.123798 ms\n",
      "23/06/24 22:08:55 INFO CodeGenerator: Code generated in 90.184955 ms\n",
      "23/06/24 22:09:03 INFO CodeGenerator: Code generated in 70.489564 ms\n",
      "23/06/24 22:09:03 INFO CodeGenerator: Code generated in 49.211957 ms\n"
     ]
    },
    {
     "name": "stdout",
     "output_type": "stream",
     "text": [
      "-------------------------------------------\n",
      "Batch: 0\n",
      "-------------------------------------------\n"
     ]
    },
    {
     "name": "stderr",
     "output_type": "stream",
     "text": [
      "23/06/24 22:10:29 INFO CodeGenerator: Code generated in 36.181735 ms\n",
      "23/06/24 22:10:29 INFO CodeGenerator: Code generated in 64.409983 ms\n"
     ]
    },
    {
     "name": "stdout",
     "output_type": "stream",
     "text": [
      "+----------+------------------+\n",
      "|LocationID|       sum(Amount)|\n",
      "+----------+------------------+\n",
      "|        19|         393746.01|\n",
      "|        22|         407314.14|\n",
      "|         7|418591.16000000003|\n",
      "|         6| 718748.6799999999|\n",
      "|         9|          396136.6|\n",
      "|        17|         527596.05|\n",
      "|         5|493735.07999999996|\n",
      "|         1|          200071.7|\n",
      "|        10|         261547.69|\n",
      "|         3|         139025.88|\n",
      "|        12|398008.47000000003|\n",
      "|         8|         392269.83|\n",
      "|        11|368336.17999999993|\n",
      "|         2|         410700.12|\n",
      "|         4|         277946.38|\n",
      "|        13|         777811.23|\n",
      "|        18|         558775.06|\n",
      "|        14|358935.87000000005|\n",
      "|        21|361317.04999999993|\n",
      "|        15|         367797.02|\n",
      "+----------+------------------+\n",
      "only showing top 20 rows\n",
      "\n"
     ]
    },
    {
     "name": "stderr",
     "output_type": "stream",
     "text": [
      "23/06/24 22:10:30 WARN ProcessingTimeExecutor: Current batch is falling behind. The trigger interval is 1000 milliseconds, but spent 109805 milliseconds\n",
      "23/06/24 22:20:18 INFO CodeGenerator: Code generated in 73.36491 ms\n"
     ]
    },
    {
     "name": "stdout",
     "output_type": "stream",
     "text": [
      "-------------------------------------------\n",
      "Batch: 1\n",
      "-------------------------------------------\n",
      "+----------+-----------------+\n",
      "|LocationID|      sum(Amount)|\n",
      "+----------+-----------------+\n",
      "|         6|719235.0199999999|\n",
      "|         9|        396214.18|\n",
      "|        17|        542316.15|\n",
      "|         1|        203651.07|\n",
      "+----------+-----------------+\n",
      "\n"
     ]
    },
    {
     "name": "stderr",
     "output_type": "stream",
     "text": [
      "23/06/24 22:20:31 WARN ProcessingTimeExecutor: Current batch is falling behind. The trigger interval is 1000 milliseconds, but spent 17820 milliseconds\n"
     ]
    },
    {
     "name": "stdout",
     "output_type": "stream",
     "text": [
      "-------------------------------------------\n",
      "Batch: 2\n",
      "-------------------------------------------\n",
      "+----------+------------------+\n",
      "|LocationID|       sum(Amount)|\n",
      "+----------+------------------+\n",
      "|        19|          401549.4|\n",
      "|        22|         413007.99|\n",
      "|         7|         441085.63|\n",
      "|         9|         461999.48|\n",
      "|        17|         558316.17|\n",
      "|         5|497364.99999999994|\n",
      "|         1|          207532.2|\n",
      "|        10|         266548.41|\n",
      "|         3|         155126.98|\n",
      "|        12|         414078.78|\n",
      "|         8|         425308.64|\n",
      "|        11| 379013.3399999999|\n",
      "|         2|         553464.13|\n",
      "|         4|         278147.93|\n",
      "|        13|         801119.69|\n",
      "|        18| 562560.9900000001|\n",
      "|        14|399357.00000000006|\n",
      "|        15|         383797.09|\n",
      "|        23|         550820.87|\n",
      "|        20|         218824.05|\n",
      "+----------+------------------+\n",
      "only showing top 20 rows\n",
      "\n"
     ]
    },
    {
     "name": "stderr",
     "output_type": "stream",
     "text": [
      "23/06/24 22:21:06 WARN ProcessingTimeExecutor: Current batch is falling behind. The trigger interval is 1000 milliseconds, but spent 35062 milliseconds\n"
     ]
    },
    {
     "name": "stdout",
     "output_type": "stream",
     "text": [
      "-------------------------------------------\n",
      "Batch: 3\n",
      "-------------------------------------------\n",
      "+----------+-----------+\n",
      "|LocationID|sum(Amount)|\n",
      "+----------+-----------+\n",
      "|         4|  293948.19|\n",
      "+----------+-----------+\n",
      "\n"
     ]
    },
    {
     "name": "stderr",
     "output_type": "stream",
     "text": [
      "23/06/24 22:21:40 WARN ProcessingTimeExecutor: Current batch is falling behind. The trigger interval is 1000 milliseconds, but spent 27515 milliseconds\n"
     ]
    },
    {
     "name": "stdout",
     "output_type": "stream",
     "text": [
      "-------------------------------------------\n",
      "Batch: 4\n",
      "-------------------------------------------\n",
      "+----------+------------------+\n",
      "|LocationID|       sum(Amount)|\n",
      "+----------+------------------+\n",
      "|        19|404044.16000000003|\n",
      "|        22|         414881.18|\n",
      "|         7|521949.16000000003|\n",
      "|         6| 736262.8899999999|\n",
      "|         9|         492562.85|\n",
      "|        17| 563339.9800000001|\n",
      "|         5|513165.01999999996|\n",
      "|         1|209581.83000000002|\n",
      "|        10|         271549.37|\n",
      "|         3|         162345.35|\n",
      "|        12|         433911.01|\n",
      "|         8|         429009.28|\n",
      "|        11|390533.54999999993|\n",
      "|         2|         562464.62|\n",
      "|        13|         824094.57|\n",
      "|        18| 576975.7500000001|\n",
      "|        14| 415357.0200000001|\n",
      "|        21|385658.19999999995|\n",
      "|        15|         402374.08|\n",
      "|        20|         250624.33|\n",
      "+----------+------------------+\n",
      "only showing top 20 rows\n",
      "\n"
     ]
    },
    {
     "name": "stderr",
     "output_type": "stream",
     "text": [
      "23/06/24 22:22:10 WARN ProcessingTimeExecutor: Current batch is falling behind. The trigger interval is 1000 milliseconds, but spent 30093 milliseconds\n"
     ]
    },
    {
     "name": "stdout",
     "output_type": "stream",
     "text": [
      "-------------------------------------------\n",
      "Batch: 5\n",
      "-------------------------------------------\n",
      "+----------+-----------------+\n",
      "|LocationID|      sum(Amount)|\n",
      "+----------+-----------------+\n",
      "|         6|743910.9799999999|\n",
      "|         2|        563864.53|\n",
      "+----------+-----------------+\n",
      "\n"
     ]
    },
    {
     "name": "stderr",
     "output_type": "stream",
     "text": [
      "23/06/24 22:23:08 WARN ProcessingTimeExecutor: Current batch is falling behind. The trigger interval is 1000 milliseconds, but spent 22104 milliseconds\n"
     ]
    },
    {
     "name": "stdout",
     "output_type": "stream",
     "text": [
      "-------------------------------------------\n",
      "Batch: 6\n",
      "-------------------------------------------\n",
      "+----------+------------------+\n",
      "|LocationID|       sum(Amount)|\n",
      "+----------+------------------+\n",
      "|        22|         430835.17|\n",
      "|         7|         564262.37|\n",
      "|         9|         512526.67|\n",
      "|         5|         528608.25|\n",
      "|        10|         278720.08|\n",
      "|         3|          171876.4|\n",
      "|        12|452278.22000000003|\n",
      "|         8|478680.99000000005|\n",
      "|        11| 390732.3399999999|\n",
      "|         2| 578696.2000000001|\n",
      "|         4|         298568.35|\n",
      "|        13| 827107.8999999999|\n",
      "|        18| 603058.4300000002|\n",
      "|        14|431157.94000000006|\n",
      "|        21|          409939.1|\n",
      "|        15|         414767.02|\n",
      "|        23|         551221.75|\n",
      "|        20|251721.88999999998|\n",
      "|        16|         352080.97|\n",
      "|        24|308359.20000000007|\n",
      "+----------+------------------+\n",
      "\n"
     ]
    },
    {
     "name": "stderr",
     "output_type": "stream",
     "text": [
      "23/06/24 22:23:36 WARN ProcessingTimeExecutor: Current batch is falling behind. The trigger interval is 1000 milliseconds, but spent 28534 milliseconds\n",
      "23/06/24 22:24:39 INFO SparkUI: Stopped Spark web UI at http://ip-10-0-2-15.ap-south-1.compute.internal:4040\n",
      "23/06/24 22:24:39 INFO ShutdownHookManager: Shutdown hook called\n",
      "23/06/24 22:24:39 INFO ShutdownHookManager: Deleting directory /tmp/spark-147c199b-3d33-4e31-bbdb-ebb7f2ca9585\n",
      "23/06/24 22:24:39 INFO ShutdownHookManager: Deleting directory /tmp/temporary-99d84ef0-5b6b-4f2b-aadf-bf896d6480ca\n"
     ]
    }
   ],
   "source": [
    "// Running count of the number of updates for each value:\n",
    "val df_locationwise_amounts = df_expanded.groupBy(\"LocationID\").sum(\"Amount\")  // using untyped API\n",
    "\n",
    "val locationAmtQuery:streaming.StreamingQuery = df_locationwise_amounts.writeStream\n",
    "    .format(\"console\")\n",
    "    .trigger(Trigger.ProcessingTime(\"1 seconds\"))\n",
    "    .outputMode(\"update\")\n",
    "    .start()\n",
    "\n",
    "locationAmtQuery.awaitTermination()"
   ]
  },
  {
   "cell_type": "code",
   "execution_count": 21,
   "metadata": {
    "tags": []
   },
   "outputs": [
    {
     "data": {
      "text/plain": [
       "\u001b[32mimport \u001b[39m\u001b[36morg.apache.spark.util.LongAccumulator\n",
       "\n",
       "\u001b[39m\n",
       "\u001b[36mrowsProcCounter\u001b[39m: \u001b[32mLongAccumulator\u001b[39m = LongAccumulator(id: 1, name: Some(Rows processed Count), value: 0)"
      ]
     },
     "execution_count": 21,
     "metadata": {},
     "output_type": "execute_result"
    }
   ],
   "source": [
    "import org.apache.spark.util.LongAccumulator\n",
    "\n",
    "val rowsProcCounter: org.apache.spark.util.LongAccumulator = sc.longAccumulator(\"Rows processed Count\")\n",
    "rowsProcCounter.reset()"
   ]
  },
  {
   "cell_type": "code",
   "execution_count": 22,
   "metadata": {
    "tags": []
   },
   "outputs": [
    {
     "data": {
      "text/plain": [
       "defined \u001b[32mfunction\u001b[39m \u001b[36mbatchOpDB\u001b[39m"
      ]
     },
     "execution_count": 22,
     "metadata": {},
     "output_type": "execute_result"
    }
   ],
   "source": [
    "def batchOpDB(batchDF: DataFrame, batchId: scala.Long):Unit = {\n",
    "    batchDF.persist()\n",
    "    \n",
    "    val rowCount = batchDF.count()\n",
    "    rowsProcCounter.add(rowCount)\n",
    "    println(s\"Processing batch id $batchId of ${rowCount} rows, total = ${rowsProcCounter.value}\")\n",
    "    \n",
    "    batchDF.groupBy(\"LocationID\").sum(\"Amount\").show(5)\n",
    "    \n",
    "    batchDF.unpersist()\n",
    "}"
   ]
  },
  {
   "cell_type": "code",
   "execution_count": null,
   "metadata": {
    "collapsed": true,
    "jupyter": {
     "outputs_hidden": true
    },
    "tags": []
   },
   "outputs": [
    {
     "name": "stderr",
     "output_type": "stream",
     "text": [
      "23/06/24 22:36:43 INFO CodeGenerator: Code generated in 421.617479 ms\n",
      "23/06/24 22:36:43 INFO CodeGenerator: Code generated in 15.700915 ms\n",
      "23/06/24 22:36:43 INFO CodeGenerator: Code generated in 16.511406 ms\n",
      "23/06/24 22:36:43 INFO CodeGenerator: Code generated in 23.531089 ms\n",
      "23/06/24 22:36:45 INFO CodeGenerator: Code generated in 70.05361 ms\n",
      "23/06/24 22:36:45 INFO CodeGenerator: Code generated in 51.903098 ms\n",
      "23/06/24 22:36:46 INFO CodeGenerator: Code generated in 18.397388 ms\n",
      "23/06/24 22:36:46 INFO CodeGenerator: Code generated in 34.705005 ms\n"
     ]
    },
    {
     "name": "stdout",
     "output_type": "stream",
     "text": [
      "Processing batch id 0 of 1545 rows, total = 1545\n"
     ]
    },
    {
     "name": "stderr",
     "output_type": "stream",
     "text": [
      "23/06/24 22:36:47 INFO CodeGenerator: Code generated in 49.408046 ms\n",
      "23/06/24 22:36:47 INFO CodeGenerator: Code generated in 67.330538 ms\n",
      "23/06/24 22:36:47 INFO CodeGenerator: Code generated in 45.15933 ms\n",
      "23/06/24 22:36:47 INFO CodeGenerator: Code generated in 24.804373 ms\n",
      "23/06/24 22:36:47 INFO CodeGenerator: Code generated in 101.418869 ms\n",
      "23/06/24 22:36:48 INFO CodeGenerator: Code generated in 69.59375 ms\n",
      "23/06/24 22:36:48 INFO CodeGenerator: Code generated in 13.004723 ms\n",
      "23/06/24 22:36:49 INFO CodeGenerator: Code generated in 10.964333 ms\n"
     ]
    },
    {
     "name": "stdout",
     "output_type": "stream",
     "text": [
      "+----------+------------------+\n",
      "|LocationID|       sum(Amount)|\n",
      "+----------+------------------+\n",
      "|        19|404044.16000000003|\n",
      "|        22| 430835.1699999999|\n",
      "|         7| 564262.3700000001|\n",
      "|         6| 743910.9800000001|\n",
      "|         9| 512526.6699999999|\n",
      "+----------+------------------+\n",
      "only showing top 5 rows\n",
      "\n"
     ]
    },
    {
     "name": "stderr",
     "output_type": "stream",
     "text": [
      "23/06/24 22:36:50 WARN ProcessingTimeExecutor: Current batch is falling behind. The trigger interval is 1000 milliseconds, but spent 10135 milliseconds\n"
     ]
    },
    {
     "name": "stdout",
     "output_type": "stream",
     "text": [
      "Processing batch id 1 of 2 rows, total = 1547\n",
      "+----------+-----------+\n",
      "|LocationID|sum(Amount)|\n",
      "+----------+-----------+\n",
      "|         7|     377.56|\n",
      "|         8|   16000.87|\n",
      "+----------+-----------+\n",
      "\n"
     ]
    },
    {
     "name": "stderr",
     "output_type": "stream",
     "text": [
      "23/06/24 22:37:12 WARN ProcessingTimeExecutor: Current batch is falling behind. The trigger interval is 1000 milliseconds, but spent 3827 milliseconds\n"
     ]
    },
    {
     "name": "stdout",
     "output_type": "stream",
     "text": [
      "Processing batch id 2 of 13 rows, total = 1560\n",
      "+----------+-----------+\n",
      "|LocationID|sum(Amount)|\n",
      "+----------+-----------+\n",
      "|         7|     865.14|\n",
      "|         6|   15499.42|\n",
      "|         5|   16000.64|\n",
      "|        12|     999.52|\n",
      "|        11|   31600.25|\n",
      "+----------+-----------+\n",
      "only showing top 5 rows\n",
      "\n"
     ]
    },
    {
     "name": "stderr",
     "output_type": "stream",
     "text": [
      "23/06/24 22:37:15 WARN ProcessingTimeExecutor: Current batch is falling behind. The trigger interval is 1000 milliseconds, but spent 3052 milliseconds\n"
     ]
    },
    {
     "name": "stdout",
     "output_type": "stream",
     "text": [
      "Processing batch id 3 of 13 rows, total = 1573\n",
      "+----------+------------------+\n",
      "|LocationID|       sum(Amount)|\n",
      "+----------+------------------+\n",
      "|         6|            400.67|\n",
      "|         9|           7900.68|\n",
      "|         5|            100.86|\n",
      "|         1|          15800.63|\n",
      "|         8|3138.7599999999998|\n",
      "+----------+------------------+\n",
      "only showing top 5 rows\n",
      "\n"
     ]
    },
    {
     "name": "stderr",
     "output_type": "stream",
     "text": [
      "23/06/24 22:37:18 WARN ProcessingTimeExecutor: Current batch is falling behind. The trigger interval is 1000 milliseconds, but spent 2869 milliseconds\n"
     ]
    },
    {
     "name": "stdout",
     "output_type": "stream",
     "text": [
      "Processing batch id 4 of 10 rows, total = 1583\n",
      "+----------+-----------+\n",
      "|LocationID|sum(Amount)|\n",
      "+----------+-----------+\n",
      "|         6|     319.65|\n",
      "|         9|      75.72|\n",
      "|         1|   27993.06|\n",
      "|         3|    1189.95|\n",
      "|         4|     555.52|\n",
      "+----------+-----------+\n",
      "only showing top 5 rows\n",
      "\n"
     ]
    },
    {
     "name": "stderr",
     "output_type": "stream",
     "text": [
      "23/06/24 22:37:21 WARN ProcessingTimeExecutor: Current batch is falling behind. The trigger interval is 1000 milliseconds, but spent 2502 milliseconds\n"
     ]
    },
    {
     "name": "stdout",
     "output_type": "stream",
     "text": [
      "Processing batch id 5 of 8 rows, total = 1591\n",
      "+----------+-----------+\n",
      "|LocationID|sum(Amount)|\n",
      "+----------+-----------+\n",
      "|        22|   22328.64|\n",
      "|         3|     269.41|\n",
      "|         8|    2621.68|\n",
      "|         4|   11500.93|\n",
      "|        23|   18796.38|\n",
      "+----------+-----------+\n",
      "only showing top 5 rows\n",
      "\n"
     ]
    },
    {
     "name": "stderr",
     "output_type": "stream",
     "text": [
      "23/06/24 22:37:23 WARN ProcessingTimeExecutor: Current batch is falling behind. The trigger interval is 1000 milliseconds, but spent 2195 milliseconds\n"
     ]
    },
    {
     "name": "stdout",
     "output_type": "stream",
     "text": [
      "Processing batch id 6 of 4 rows, total = 1595\n",
      "+----------+-----------+\n",
      "|LocationID|sum(Amount)|\n",
      "+----------+-----------+\n",
      "|        17|    3569.66|\n",
      "|         1|    9300.71|\n",
      "|         2|     6621.8|\n",
      "|        23|   16000.45|\n",
      "+----------+-----------+\n",
      "\n"
     ]
    },
    {
     "name": "stderr",
     "output_type": "stream",
     "text": [
      "23/06/24 22:37:25 WARN ProcessingTimeExecutor: Current batch is falling behind. The trigger interval is 1000 milliseconds, but spent 2242 milliseconds\n",
      "23/06/24 22:37:55 INFO CodeGenerator: Code generated in 14.82251 ms\n"
     ]
    },
    {
     "name": "stdout",
     "output_type": "stream",
     "text": [
      "Processing batch id 7 of 1 rows, total = 1596\n"
     ]
    },
    {
     "name": "stderr",
     "output_type": "stream",
     "text": [
      "23/06/24 22:37:55 INFO CodeGenerator: Code generated in 82.342261 ms\n"
     ]
    },
    {
     "name": "stdout",
     "output_type": "stream",
     "text": [
      "+----------+-----------+\n",
      "|LocationID|sum(Amount)|\n",
      "+----------+-----------+\n",
      "|        16|   16000.63|\n",
      "+----------+-----------+\n",
      "\n",
      "Processing batch id 8 of 4 rows, total = 1600\n",
      "+----------+-----------+\n",
      "|LocationID|sum(Amount)|\n",
      "+----------+-----------+\n",
      "|         5|     100.02|\n",
      "|        14|   17450.82|\n",
      "|        21|     100.86|\n",
      "|        24|    1500.63|\n",
      "+----------+-----------+\n",
      "\n"
     ]
    },
    {
     "name": "stderr",
     "output_type": "stream",
     "text": [
      "23/06/24 22:37:58 WARN ProcessingTimeExecutor: Current batch is falling behind. The trigger interval is 1000 milliseconds, but spent 2182 milliseconds\n"
     ]
    },
    {
     "name": "stdout",
     "output_type": "stream",
     "text": [
      "Processing batch id 9 of 7 rows, total = 1607\n",
      "+----------+-----------+\n",
      "|LocationID|sum(Amount)|\n",
      "+----------+-----------+\n",
      "|         6|     654.29|\n",
      "|        11|    1513.93|\n",
      "|         2|     100.76|\n",
      "|         4|    1777.62|\n",
      "|        14|   16000.03|\n",
      "+----------+-----------+\n",
      "only showing top 5 rows\n",
      "\n"
     ]
    },
    {
     "name": "stderr",
     "output_type": "stream",
     "text": [
      "23/06/24 22:38:00 WARN ProcessingTimeExecutor: Current batch is falling behind. The trigger interval is 1000 milliseconds, but spent 2349 milliseconds\n"
     ]
    },
    {
     "name": "stdout",
     "output_type": "stream",
     "text": [
      "Processing batch id 10 of 10 rows, total = 1617\n",
      "+----------+-----------+\n",
      "|LocationID|sum(Amount)|\n",
      "+----------+-----------+\n",
      "|        22|    4354.02|\n",
      "|         6|     100.54|\n",
      "|         5|    2999.94|\n",
      "|         1|     7187.9|\n",
      "|        10|   50000.76|\n",
      "+----------+-----------+\n",
      "only showing top 5 rows\n",
      "\n"
     ]
    },
    {
     "name": "stderr",
     "output_type": "stream",
     "text": [
      "23/06/24 22:38:02 WARN ProcessingTimeExecutor: Current batch is falling behind. The trigger interval is 1000 milliseconds, but spent 1854 milliseconds\n"
     ]
    },
    {
     "name": "stdout",
     "output_type": "stream",
     "text": [
      "Processing batch id 11 of 7 rows, total = 1624\n",
      "+----------+------------------+\n",
      "|LocationID|       sum(Amount)|\n",
      "+----------+------------------+\n",
      "|        19|            100.75|\n",
      "|         7|            100.88|\n",
      "|        17|16180.099999999999|\n",
      "|         5|            628.63|\n",
      "|        21|            129.13|\n",
      "+----------+------------------+\n",
      "only showing top 5 rows\n",
      "\n"
     ]
    },
    {
     "name": "stderr",
     "output_type": "stream",
     "text": [
      "23/06/24 22:38:04 WARN ProcessingTimeExecutor: Current batch is falling behind. The trigger interval is 1000 milliseconds, but spent 2414 milliseconds\n"
     ]
    },
    {
     "name": "stdout",
     "output_type": "stream",
     "text": [
      "Processing batch id 12 of 10 rows, total = 1634\n",
      "+----------+-----------+\n",
      "|LocationID|sum(Amount)|\n",
      "+----------+-----------+\n",
      "|        19|    3415.44|\n",
      "|         7|    4990.41|\n",
      "|         9|     198.43|\n",
      "|         5|     429.34|\n",
      "|         3|   16000.05|\n",
      "+----------+-----------+\n",
      "only showing top 5 rows\n",
      "\n"
     ]
    },
    {
     "name": "stderr",
     "output_type": "stream",
     "text": [
      "23/06/24 22:38:07 WARN ProcessingTimeExecutor: Current batch is falling behind. The trigger interval is 1000 milliseconds, but spent 2393 milliseconds\n"
     ]
    },
    {
     "name": "stdout",
     "output_type": "stream",
     "text": [
      "Processing batch id 13 of 8 rows, total = 1642\n",
      "+----------+-----------+\n",
      "|LocationID|sum(Amount)|\n",
      "+----------+-----------+\n",
      "|         5|    7366.47|\n",
      "|        11|   17800.39|\n",
      "|         2|      99.78|\n",
      "|        13|     2152.4|\n",
      "|        18|    8579.58|\n",
      "+----------+-----------+\n",
      "only showing top 5 rows\n",
      "\n"
     ]
    },
    {
     "name": "stderr",
     "output_type": "stream",
     "text": [
      "23/06/24 22:38:09 WARN ProcessingTimeExecutor: Current batch is falling behind. The trigger interval is 1000 milliseconds, but spent 2036 milliseconds\n"
     ]
    },
    {
     "name": "stdout",
     "output_type": "stream",
     "text": [
      "Processing batch id 14 of 3 rows, total = 1645\n",
      "+----------+-----------+\n",
      "|LocationID|sum(Amount)|\n",
      "+----------+-----------+\n",
      "|         7|    1493.03|\n",
      "|         9|    16000.7|\n",
      "|        17|     200.82|\n",
      "+----------+-----------+\n",
      "\n"
     ]
    },
    {
     "name": "stderr",
     "output_type": "stream",
     "text": [
      "23/06/24 22:38:11 WARN ProcessingTimeExecutor: Current batch is falling behind. The trigger interval is 1000 milliseconds, but spent 1871 milliseconds\n"
     ]
    }
   ],
   "source": [
    "val batchOpsQuery:streaming.StreamingQuery = df_expanded.writeStream\n",
    "    .foreachBatch {\n",
    "        (batchDF, batchId) => batchOpDB(batchDF, batchId)\n",
    "    }\n",
    "    .trigger(Trigger.ProcessingTime(\"1 seconds\"))\n",
    "    .outputMode(\"update\")\n",
    "    .start()\n",
    "\n",
    "batchOpsQuery.awaitTermination()"
   ]
  },
  {
   "cell_type": "markdown",
   "metadata": {},
   "source": [
    "---\n",
    "\n",
    "### Stop the Spark Session"
   ]
  },
  {
   "cell_type": "code",
   "execution_count": 56,
   "metadata": {
    "tags": []
   },
   "outputs": [
    {
     "name": "stderr",
     "output_type": "stream",
     "text": [
      "23/06/26 01:16:46 INFO SparkUI: Stopped Spark web UI at http://10.0.2.15:4040\n"
     ]
    }
   ],
   "source": [
    "spark.stop()"
   ]
  },
  {
   "cell_type": "code",
   "execution_count": 57,
   "metadata": {
    "tags": []
   },
   "outputs": [],
   "source": [
    "sc.stop()"
   ]
  },
  {
   "cell_type": "markdown",
   "metadata": {},
   "source": [
    "### End of file"
   ]
  }
 ],
 "metadata": {
  "kernelspec": {
   "display_name": "Scala",
   "language": "scala",
   "name": "scala"
  },
  "language_info": {
   "codemirror_mode": "text/x-scala",
   "file_extension": ".sc",
   "mimetype": "text/x-scala",
   "name": "scala",
   "nbconvert_exporter": "script",
   "version": "2.13.10"
  }
 },
 "nbformat": 4,
 "nbformat_minor": 4
}
